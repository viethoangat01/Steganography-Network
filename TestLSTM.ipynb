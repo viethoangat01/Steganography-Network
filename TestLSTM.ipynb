{
  "nbformat": 4,
  "nbformat_minor": 0,
  "metadata": {
    "colab": {
      "name": "TestLSTM.ipynb",
      "provenance": [],
      "collapsed_sections": []
    },
    "kernelspec": {
      "name": "python3",
      "display_name": "Python 3"
    },
    "language_info": {
      "name": "python"
    },
    "accelerator": "GPU"
  },
  "cells": [
    {
      "cell_type": "code",
      "metadata": {
        "id": "fzpAH0Xjr39n"
      },
      "source": [
        "import pandas as pd\n",
        "import numpy as np\n",
        "import matplotlib.pyplot as plt\n",
        "import seaborn as sns\n",
        "import tensorflow as tf\n",
        "from sklearn.model_selection import train_test_split\n",
        "from sklearn.preprocessing import LabelEncoder\n",
        "from tensorflow.keras.models import Model\n",
        "from tensorflow.keras.layers import LSTM, Activation, Dense, Dropout, Input, Embedding\n",
        "from tensorflow.keras.optimizers import RMSprop\n",
        "from tensorflow.keras.preprocessing.text import Tokenizer\n",
        "from tensorflow.keras.preprocessing import sequence\n",
        "from tensorflow.keras.utils import to_categorical\n",
        "from tensorflow.keras.callbacks import EarlyStopping\n",
        "%matplotlib inline"
      ],
      "execution_count": 2,
      "outputs": []
    },
    {
      "cell_type": "code",
      "metadata": {
        "id": "fsi_aaHhHsio"
      },
      "source": [
        ""
      ],
      "execution_count": null,
      "outputs": []
    },
    {
      "cell_type": "code",
      "metadata": {
        "id": "MjunxNwgsMuY"
      },
      "source": [
        "#Import the dataset\n",
        "data_train=pd.read_csv('/content/drive/MyDrive/N12-Kĩ thuật giấu tin/DataTest/LSTM1/Train_56000.csv')\n",
        "data_test=pd.read_csv('/content/drive/MyDrive/N12-Kĩ thuật giấu tin/DataTest/LSTM1/Test_14000.csv')\n",
        "\n",
        "X_train=data_train.iloc[:56000,[1,3,4]].values\n",
        "Y_train=data_train.iloc[:56000,0].values\n",
        "\n",
        "X_test=data_test.iloc[:14000,[1,3,4]].values\n",
        "Y_test=data_test.iloc[:14000,0].values\n"
      ],
      "execution_count": 25,
      "outputs": []
    },
    {
      "cell_type": "code",
      "metadata": {
        "id": "mjzpDmnMAoLf"
      },
      "source": [
        "X_train, Y_train, X_test, Y_test = list(map(lambda x: np.array(x, dtype=np.float64), [X_train, Y_train, X_test, Y_test]))"
      ],
      "execution_count": 26,
      "outputs": []
    },
    {
      "cell_type": "code",
      "metadata": {
        "colab": {
          "base_uri": "https://localhost:8080/",
          "height": 194
        },
        "id": "KsMJpon1_aIu",
        "outputId": "c8473b24-f91a-481b-9610-9e219c3a6352"
      },
      "source": [
        "data_train.head()"
      ],
      "execution_count": 27,
      "outputs": [
        {
          "output_type": "execute_result",
          "data": {
            "text/html": [
              "<div>\n",
              "<style scoped>\n",
              "    .dataframe tbody tr th:only-of-type {\n",
              "        vertical-align: middle;\n",
              "    }\n",
              "\n",
              "    .dataframe tbody tr th {\n",
              "        vertical-align: top;\n",
              "    }\n",
              "\n",
              "    .dataframe thead th {\n",
              "        text-align: right;\n",
              "    }\n",
              "</style>\n",
              "<table border=\"1\" class=\"dataframe\">\n",
              "  <thead>\n",
              "    <tr style=\"text-align: right;\">\n",
              "      <th></th>\n",
              "      <th>LABEL</th>\n",
              "      <th>ip.id</th>\n",
              "      <th>tcp.seq_raw</th>\n",
              "      <th>frame.len</th>\n",
              "      <th>frame.cap_len</th>\n",
              "      <th>dns.qry.name</th>\n",
              "      <th>http.user_agent</th>\n",
              "    </tr>\n",
              "  </thead>\n",
              "  <tbody>\n",
              "    <tr>\n",
              "      <th>0</th>\n",
              "      <td>0</td>\n",
              "      <td>18555</td>\n",
              "      <td>0</td>\n",
              "      <td>60</td>\n",
              "      <td>42</td>\n",
              "      <td>0.0</td>\n",
              "      <td>0</td>\n",
              "    </tr>\n",
              "    <tr>\n",
              "      <th>1</th>\n",
              "      <td>1</td>\n",
              "      <td>30673</td>\n",
              "      <td>1082820181</td>\n",
              "      <td>266</td>\n",
              "      <td>266</td>\n",
              "      <td>0.0</td>\n",
              "      <td>0</td>\n",
              "    </tr>\n",
              "    <tr>\n",
              "      <th>2</th>\n",
              "      <td>0</td>\n",
              "      <td>27819</td>\n",
              "      <td>740183112</td>\n",
              "      <td>54</td>\n",
              "      <td>54</td>\n",
              "      <td>0.0</td>\n",
              "      <td>0</td>\n",
              "    </tr>\n",
              "    <tr>\n",
              "      <th>3</th>\n",
              "      <td>0</td>\n",
              "      <td>28353</td>\n",
              "      <td>1099952435</td>\n",
              "      <td>93</td>\n",
              "      <td>66</td>\n",
              "      <td>0.0</td>\n",
              "      <td>0</td>\n",
              "    </tr>\n",
              "    <tr>\n",
              "      <th>4</th>\n",
              "      <td>0</td>\n",
              "      <td>6571</td>\n",
              "      <td>0</td>\n",
              "      <td>60</td>\n",
              "      <td>42</td>\n",
              "      <td>0.0</td>\n",
              "      <td>0</td>\n",
              "    </tr>\n",
              "  </tbody>\n",
              "</table>\n",
              "</div>"
            ],
            "text/plain": [
              "   LABEL  ip.id  tcp.seq_raw  ...  frame.cap_len  dns.qry.name  http.user_agent\n",
              "0      0  18555            0  ...             42           0.0                0\n",
              "1      1  30673   1082820181  ...            266           0.0                0\n",
              "2      0  27819    740183112  ...             54           0.0                0\n",
              "3      0  28353   1099952435  ...             66           0.0                0\n",
              "4      0   6571            0  ...             42           0.0                0\n",
              "\n",
              "[5 rows x 7 columns]"
            ]
          },
          "metadata": {
            "tags": []
          },
          "execution_count": 27
        }
      ]
    },
    {
      "cell_type": "code",
      "metadata": {
        "id": "ZFuXoeGWDh5j"
      },
      "source": [
        "X_train[0]"
      ],
      "execution_count": null,
      "outputs": []
    },
    {
      "cell_type": "code",
      "metadata": {
        "id": "2-2mWVHx0Z9d"
      },
      "source": [
        "max_words = 65526\n",
        "max_len = 3\n",
        "# tok = Tokenizer(num_words=max_words)\n",
        "# tok.fit_on_texts(X_train)\n",
        "# sequences = tok.texts_to_sequences(X_train)\n",
        "# sequences_matrix = sequence.pad_sequences(sequences,maxlen=max_len)\n",
        "sequences_matrix = X_train\n",
        "Y_train = Y_train.reshape(-1, 1)"
      ],
      "execution_count": 45,
      "outputs": []
    },
    {
      "cell_type": "code",
      "metadata": {
        "colab": {
          "base_uri": "https://localhost:8080/"
        },
        "id": "-UbR_20hBUJ7",
        "outputId": "dd99eb64-6a1d-4ff2-afb6-8b89fcafd03c"
      },
      "source": [
        "Y_train.shape"
      ],
      "execution_count": 46,
      "outputs": [
        {
          "output_type": "execute_result",
          "data": {
            "text/plain": [
              "(56000, 1)"
            ]
          },
          "metadata": {
            "tags": []
          },
          "execution_count": 46
        }
      ]
    },
    {
      "cell_type": "code",
      "metadata": {
        "id": "rypTP-SR_2Ks"
      },
      "source": [
        "def RNN():\n",
        "    inputs = Input(name='inputs',shape=[max_len])\n",
        "    layer = Embedding(max_words,50,input_length=max_len)(inputs)\n",
        "    layer = LSTM(64)(layer)\n",
        "    # layer = Merge([max_len, context_model], mode=\"dot\", dot_axes=0)(layer)\n",
        "    layer = Dense(256,name='FC1')(layer)\n",
        "    layer = Activation('relu')(layer)\n",
        "    layer = Dropout(0.5)(layer)\n",
        "    layer = Dense(1,name='out_layer')(layer)\n",
        "    layer = Activation('sigmoid')(layer)\n",
        "    model = Model(inputs=inputs,outputs=layer)\n",
        "    return model"
      ],
      "execution_count": 47,
      "outputs": []
    },
    {
      "cell_type": "code",
      "metadata": {
        "colab": {
          "base_uri": "https://localhost:8080/"
        },
        "id": "2bY6ht-eAZAA",
        "outputId": "29ce4262-d277-40d4-cd29-8049b3ebb68b"
      },
      "source": [
        "model = RNN()\n",
        "model.summary()\n",
        "model.compile(loss='binary_crossentropy',optimizer=RMSprop(),metrics=['accuracy'])"
      ],
      "execution_count": 48,
      "outputs": [
        {
          "output_type": "stream",
          "text": [
            "Model: \"model_4\"\n",
            "_________________________________________________________________\n",
            "Layer (type)                 Output Shape              Param #   \n",
            "=================================================================\n",
            "inputs (InputLayer)          [(None, 3)]               0         \n",
            "_________________________________________________________________\n",
            "embedding_4 (Embedding)      (None, 3, 50)             3276800   \n",
            "_________________________________________________________________\n",
            "lstm_4 (LSTM)                (None, 64)                29440     \n",
            "_________________________________________________________________\n",
            "FC1 (Dense)                  (None, 256)               16640     \n",
            "_________________________________________________________________\n",
            "activation_8 (Activation)    (None, 256)               0         \n",
            "_________________________________________________________________\n",
            "dropout_4 (Dropout)          (None, 256)               0         \n",
            "_________________________________________________________________\n",
            "out_layer (Dense)            (None, 1)                 257       \n",
            "_________________________________________________________________\n",
            "activation_9 (Activation)    (None, 1)                 0         \n",
            "=================================================================\n",
            "Total params: 3,323,137\n",
            "Trainable params: 3,323,137\n",
            "Non-trainable params: 0\n",
            "_________________________________________________________________\n"
          ],
          "name": "stdout"
        }
      ]
    },
    {
      "cell_type": "code",
      "metadata": {
        "colab": {
          "base_uri": "https://localhost:8080/"
        },
        "id": "xOz-mRpXAhbv",
        "outputId": "7f51917d-720d-45cd-ef1e-80972dd30a4d"
      },
      "source": [
        "model.fit(sequences_matrix,Y_train,batch_size=1024,epochs=10,\n",
        "          validation_split=0.2)"
      ],
      "execution_count": 49,
      "outputs": [
        {
          "output_type": "stream",
          "text": [
            "Epoch 1/10\n",
            "44/44 [==============================] - 3s 27ms/step - loss: 0.3074 - accuracy: 0.9169 - val_loss: 0.0656 - val_accuracy: 0.9846\n",
            "Epoch 2/10\n",
            "44/44 [==============================] - 1s 14ms/step - loss: 0.0323 - accuracy: 0.9917 - val_loss: 0.0390 - val_accuracy: 0.9896\n",
            "Epoch 3/10\n",
            "44/44 [==============================] - 1s 14ms/step - loss: 0.0144 - accuracy: 0.9956 - val_loss: 0.0523 - val_accuracy: 0.9803\n",
            "Epoch 4/10\n",
            "44/44 [==============================] - 1s 15ms/step - loss: 0.0080 - accuracy: 0.9977 - val_loss: 0.0513 - val_accuracy: 0.9861\n",
            "Epoch 5/10\n",
            "44/44 [==============================] - 1s 15ms/step - loss: 0.0053 - accuracy: 0.9984 - val_loss: 0.0497 - val_accuracy: 0.9862\n",
            "Epoch 6/10\n",
            "44/44 [==============================] - 1s 15ms/step - loss: 0.0044 - accuracy: 0.9989 - val_loss: 0.0458 - val_accuracy: 0.9886\n",
            "Epoch 7/10\n",
            "44/44 [==============================] - 1s 15ms/step - loss: 0.0034 - accuracy: 0.9990 - val_loss: 0.0478 - val_accuracy: 0.9862\n",
            "Epoch 8/10\n",
            "44/44 [==============================] - 1s 14ms/step - loss: 0.0032 - accuracy: 0.9992 - val_loss: 0.0494 - val_accuracy: 0.9878\n",
            "Epoch 9/10\n",
            "44/44 [==============================] - 1s 14ms/step - loss: 0.0028 - accuracy: 0.9992 - val_loss: 0.0512 - val_accuracy: 0.9861\n",
            "Epoch 10/10\n",
            "44/44 [==============================] - 1s 14ms/step - loss: 0.0023 - accuracy: 0.9993 - val_loss: 0.0518 - val_accuracy: 0.9861\n"
          ],
          "name": "stdout"
        },
        {
          "output_type": "execute_result",
          "data": {
            "text/plain": [
              "<tensorflow.python.keras.callbacks.History at 0x7fc009c82a90>"
            ]
          },
          "metadata": {
            "tags": []
          },
          "execution_count": 49
        }
      ]
    },
    {
      "cell_type": "code",
      "metadata": {
        "colab": {
          "base_uri": "https://localhost:8080/"
        },
        "id": "EnQSBFEJA85G",
        "outputId": "6fae604b-26fb-474d-95d7-6ac88502b912"
      },
      "source": [
        "model.evaluate(X_test, Y_test)"
      ],
      "execution_count": 51,
      "outputs": [
        {
          "output_type": "stream",
          "text": [
            "438/438 [==============================] - 1s 3ms/step - loss: 0.0462 - accuracy: 0.9863\n"
          ],
          "name": "stdout"
        },
        {
          "output_type": "execute_result",
          "data": {
            "text/plain": [
              "[0.04616327956318855, 0.9862856864929199]"
            ]
          },
          "metadata": {
            "tags": []
          },
          "execution_count": 51
        }
      ]
    },
    {
      "cell_type": "code",
      "metadata": {
        "colab": {
          "base_uri": "https://localhost:8080/"
        },
        "id": "DdYIHa9sEHe9",
        "outputId": "d74756ea-cf59-4bdd-906c-b830a38a18b4"
      },
      "source": [
        "model.predict(np.array([X_test[4]]))"
      ],
      "execution_count": 54,
      "outputs": [
        {
          "output_type": "execute_result",
          "data": {
            "text/plain": [
              "array([[0.9999355]], dtype=float32)"
            ]
          },
          "metadata": {
            "tags": []
          },
          "execution_count": 54
        }
      ]
    },
    {
      "cell_type": "code",
      "metadata": {
        "colab": {
          "base_uri": "https://localhost:8080/"
        },
        "id": "OyvRRx0AEL2D",
        "outputId": "b0e6f85c-c6ee-4ab9-d3e8-ae4ae847cb38"
      },
      "source": [
        "Y_test[4]"
      ],
      "execution_count": 55,
      "outputs": [
        {
          "output_type": "execute_result",
          "data": {
            "text/plain": [
              "1.0"
            ]
          },
          "metadata": {
            "tags": []
          },
          "execution_count": 55
        }
      ]
    }
  ]
}