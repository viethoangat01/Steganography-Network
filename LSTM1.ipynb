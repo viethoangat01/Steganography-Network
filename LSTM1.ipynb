{
  "nbformat": 4,
  "nbformat_minor": 0,
  "metadata": {
    "colab": {
      "name": "LSTM1.ipynb",
      "provenance": [],
      "collapsed_sections": []
    },
    "kernelspec": {
      "name": "python3",
      "display_name": "Python 3"
    },
    "language_info": {
      "name": "python"
    },
    "accelerator": "GPU"
  },
  "cells": [
    {
      "cell_type": "code",
      "metadata": {
        "id": "fzpAH0Xjr39n"
      },
      "source": [
        "import pandas as pd\n",
        "import numpy as np\n",
        "import matplotlib.pyplot as plt\n",
        "import seaborn as sns\n",
        "import time\n",
        "import tensorflow as tf\n",
        "from sklearn.model_selection import train_test_split\n",
        "from sklearn.preprocessing import LabelEncoder\n",
        "from tensorflow.keras.models import Model\n",
        "from tensorflow.keras.layers import LSTM, Activation, Dense, Dropout, Input, Embedding\n",
        "from tensorflow.keras.optimizers import RMSprop\n",
        "from tensorflow.keras.preprocessing.text import Tokenizer\n",
        "from tensorflow.keras.preprocessing import sequence\n",
        "from tensorflow.keras.utils import to_categorical\n",
        "from tensorflow.keras.callbacks import EarlyStopping\n",
        "from time import sleep\n",
        "\n",
        "%matplotlib inline"
      ],
      "execution_count": 56,
      "outputs": []
    },
    {
      "cell_type": "code",
      "metadata": {
        "id": "MjunxNwgsMuY"
      },
      "source": [
        "#Import the dataset\n",
        "data_train=pd.read_csv('/content/drive/MyDrive/N12-Kĩ thuật giấu tin/CSV/2 patterns (P1-P5)/LẦN 1/Train_56.000.csv')\n",
        "data_test=pd.read_csv('/content/drive/MyDrive/N12-Kĩ thuật giấu tin/CSV/2 patterns (P1-P5)/LẦN 1/Test_14.000.csv')\n",
        "\n",
        "X_train=data_train.iloc[:56000,[1,2,3,4,5]].values\n",
        "Y_train=data_train.iloc[:56000,0].values\n",
        "\n",
        "X_test=data_test.iloc[:14000,[1,2,3,4,5]].values\n",
        "Y_test=data_test.iloc[:14000,0].values\n"
      ],
      "execution_count": 41,
      "outputs": []
    },
    {
      "cell_type": "code",
      "metadata": {
        "id": "mjzpDmnMAoLf"
      },
      "source": [
        "X_train, Y_train, X_test, Y_test = list(map(lambda x: np.array(x, dtype=np.float64), [X_train, Y_train, X_test, Y_test]))"
      ],
      "execution_count": 42,
      "outputs": []
    },
    {
      "cell_type": "code",
      "metadata": {
        "colab": {
          "base_uri": "https://localhost:8080/",
          "height": 194
        },
        "id": "KsMJpon1_aIu",
        "outputId": "9b6bfe70-e750-4d19-da83-5911b5fddff9"
      },
      "source": [
        "data_train.head()"
      ],
      "execution_count": 43,
      "outputs": [
        {
          "output_type": "execute_result",
          "data": {
            "text/html": [
              "<div>\n",
              "<style scoped>\n",
              "    .dataframe tbody tr th:only-of-type {\n",
              "        vertical-align: middle;\n",
              "    }\n",
              "\n",
              "    .dataframe tbody tr th {\n",
              "        vertical-align: top;\n",
              "    }\n",
              "\n",
              "    .dataframe thead th {\n",
              "        text-align: right;\n",
              "    }\n",
              "</style>\n",
              "<table border=\"1\" class=\"dataframe\">\n",
              "  <thead>\n",
              "    <tr style=\"text-align: right;\">\n",
              "      <th></th>\n",
              "      <th>LABEL</th>\n",
              "      <th>ip.proto</th>\n",
              "      <th>ip.id</th>\n",
              "      <th>tcp.seq_raw</th>\n",
              "      <th>frame.len</th>\n",
              "      <th>frame.cap_len</th>\n",
              "    </tr>\n",
              "  </thead>\n",
              "  <tbody>\n",
              "    <tr>\n",
              "      <th>0</th>\n",
              "      <td>0</td>\n",
              "      <td>6</td>\n",
              "      <td>47010</td>\n",
              "      <td>698643808</td>\n",
              "      <td>1420</td>\n",
              "      <td>66</td>\n",
              "    </tr>\n",
              "    <tr>\n",
              "      <th>1</th>\n",
              "      <td>1</td>\n",
              "      <td>6</td>\n",
              "      <td>24320</td>\n",
              "      <td>1862270976</td>\n",
              "      <td>56</td>\n",
              "      <td>56</td>\n",
              "    </tr>\n",
              "    <tr>\n",
              "      <th>2</th>\n",
              "      <td>1</td>\n",
              "      <td>6</td>\n",
              "      <td>52834</td>\n",
              "      <td>1159528989</td>\n",
              "      <td>166</td>\n",
              "      <td>166</td>\n",
              "    </tr>\n",
              "    <tr>\n",
              "      <th>3</th>\n",
              "      <td>1</td>\n",
              "      <td>6</td>\n",
              "      <td>45038</td>\n",
              "      <td>1854525181</td>\n",
              "      <td>126</td>\n",
              "      <td>126</td>\n",
              "    </tr>\n",
              "    <tr>\n",
              "      <th>4</th>\n",
              "      <td>0</td>\n",
              "      <td>6</td>\n",
              "      <td>4160</td>\n",
              "      <td>1177938840</td>\n",
              "      <td>54</td>\n",
              "      <td>54</td>\n",
              "    </tr>\n",
              "  </tbody>\n",
              "</table>\n",
              "</div>"
            ],
            "text/plain": [
              "   LABEL  ip.proto  ip.id  tcp.seq_raw  frame.len  frame.cap_len\n",
              "0      0         6  47010    698643808       1420             66\n",
              "1      1         6  24320   1862270976         56             56\n",
              "2      1         6  52834   1159528989        166            166\n",
              "3      1         6  45038   1854525181        126            126\n",
              "4      0         6   4160   1177938840         54             54"
            ]
          },
          "metadata": {
            "tags": []
          },
          "execution_count": 43
        }
      ]
    },
    {
      "cell_type": "code",
      "metadata": {
        "id": "ZFuXoeGWDh5j",
        "colab": {
          "base_uri": "https://localhost:8080/"
        },
        "outputId": "2e8865d6-7e30-4e3a-b288-a6860bf8ebf4"
      },
      "source": [
        "X_train[0]"
      ],
      "execution_count": 44,
      "outputs": [
        {
          "output_type": "execute_result",
          "data": {
            "text/plain": [
              "array([6.00000000e+00, 4.70100000e+04, 6.98643808e+08, 1.42000000e+03,\n",
              "       6.60000000e+01])"
            ]
          },
          "metadata": {
            "tags": []
          },
          "execution_count": 44
        }
      ]
    },
    {
      "cell_type": "code",
      "metadata": {
        "id": "2-2mWVHx0Z9d"
      },
      "source": [
        "max_words = 65527\n",
        "max_len = 5\n",
        "# tok = Tokenizer(num_words=max_words)\n",
        "# tok.fit_on_texts(X_train)\n",
        "# sequences = tok.texts_to_sequences(X_train)\n",
        "#sequences_matrix = sequence.pad_sequences(sequences,maxlen=max_len)\n",
        "sequences_matrix = X_train\n",
        "Y_train = Y_train.reshape(-1, 1)"
      ],
      "execution_count": 45,
      "outputs": []
    },
    {
      "cell_type": "code",
      "metadata": {
        "id": "BiD9P0muZcvJ"
      },
      "source": [
        "tcp_train = X_train[:, 2]\n",
        "tcp_test = X_test[:, 2]"
      ],
      "execution_count": 46,
      "outputs": []
    },
    {
      "cell_type": "code",
      "metadata": {
        "id": "R5ggE3e0dn2F"
      },
      "source": [
        "#Trộn train+test\n",
        "tcp = np.concatenate([tcp_train, tcp_test])"
      ],
      "execution_count": 47,
      "outputs": []
    },
    {
      "cell_type": "code",
      "metadata": {
        "colab": {
          "base_uri": "https://localhost:8080/"
        },
        "id": "v5PuNgMLeHV9",
        "outputId": "66e55d6a-17d7-4122-d762-9fc8aa0a3927"
      },
      "source": [
        "tcp.shape"
      ],
      "execution_count": 48,
      "outputs": [
        {
          "output_type": "execute_result",
          "data": {
            "text/plain": [
              "(70000,)"
            ]
          },
          "metadata": {
            "tags": []
          },
          "execution_count": 48
        }
      ]
    },
    {
      "cell_type": "code",
      "metadata": {
        "colab": {
          "base_uri": "https://localhost:8080/"
        },
        "id": "-UbR_20hBUJ7",
        "outputId": "45126721-0f84-4e1b-95f7-8dd2c4225c39"
      },
      "source": [
        "#Sort tcp_test\n",
        "tcp_set = list(set(tcp))\n",
        "tcp_sort = list(np.sort(tcp_set))\n",
        "len(tcp_set)"
      ],
      "execution_count": 49,
      "outputs": [
        {
          "output_type": "execute_result",
          "data": {
            "text/plain": [
              "52832"
            ]
          },
          "metadata": {
            "tags": []
          },
          "execution_count": 49
        }
      ]
    },
    {
      "cell_type": "code",
      "metadata": {
        "id": "h3GKBlm9ayRX"
      },
      "source": [
        "#Đánh index value tcp_train và tcp_test= index trong tcp+sort\n",
        "result_train = []\n",
        "result_test = []\n",
        "for value in tcp_train:\n",
        "  index = tcp_sort.index(value)\n",
        "  result_train.append(index)\n",
        "\n",
        "for value in tcp_test:\n",
        "  index = tcp_sort.index(value)\n",
        "  result_test.append(index)\n",
        "\n",
        "result_train = np.array(result_train)\n",
        "result_test = np.array(result_test)"
      ],
      "execution_count": 50,
      "outputs": []
    },
    {
      "cell_type": "code",
      "metadata": {
        "colab": {
          "base_uri": "https://localhost:8080/"
        },
        "id": "NDFY1DI1cUF9",
        "outputId": "1d16a1d6-1dcb-4fa0-b634-5bebf9c0cdd4"
      },
      "source": [
        "np.max(result_test)"
      ],
      "execution_count": 51,
      "outputs": [
        {
          "output_type": "execute_result",
          "data": {
            "text/plain": [
              "52830"
            ]
          },
          "metadata": {
            "tags": []
          },
          "execution_count": 51
        }
      ]
    },
    {
      "cell_type": "code",
      "metadata": {
        "id": "gGsKdbk9bnRf"
      },
      "source": [
        "X_train[:, 2] = result_train\n",
        "X_test[:, 2] = result_test"
      ],
      "execution_count": 52,
      "outputs": []
    },
    {
      "cell_type": "code",
      "metadata": {
        "id": "rypTP-SR_2Ks"
      },
      "source": [
        "def RNN():\n",
        "    inputs = Input(name='inputs',shape=[max_len])\n",
        "    layer = Embedding(max_words,50,input_length=max_len)(inputs)\n",
        "    layer = LSTM(64)(layer)\n",
        "    # layer = Merge([max_len, context_model], mode=\"dot\", dot_axes=0)(layer)\n",
        "    layer = Dense(256,name='FC1')(layer)\n",
        "    layer = Activation('relu')(layer)\n",
        "    layer = Dropout(0.5)(layer)\n",
        "    layer = Dense(1,name='out_layer')(layer)\n",
        "    layer = Activation('sigmoid')(layer)\n",
        "    model = Model(inputs=inputs,outputs=layer)\n",
        "    return model"
      ],
      "execution_count": 53,
      "outputs": []
    },
    {
      "cell_type": "code",
      "metadata": {
        "colab": {
          "base_uri": "https://localhost:8080/"
        },
        "id": "2bY6ht-eAZAA",
        "outputId": "a4dcf71e-ceeb-4e35-a86d-d59ce522180c"
      },
      "source": [
        "model = RNN()\n",
        "model.summary()\n",
        "model.compile(loss='binary_crossentropy',optimizer=RMSprop(),metrics=['accuracy'])"
      ],
      "execution_count": 54,
      "outputs": [
        {
          "output_type": "stream",
          "text": [
            "Model: \"model_2\"\n",
            "_________________________________________________________________\n",
            "Layer (type)                 Output Shape              Param #   \n",
            "=================================================================\n",
            "inputs (InputLayer)          [(None, 5)]               0         \n",
            "_________________________________________________________________\n",
            "embedding_2 (Embedding)      (None, 5, 50)             3276350   \n",
            "_________________________________________________________________\n",
            "lstm_2 (LSTM)                (None, 64)                29440     \n",
            "_________________________________________________________________\n",
            "FC1 (Dense)                  (None, 256)               16640     \n",
            "_________________________________________________________________\n",
            "activation_4 (Activation)    (None, 256)               0         \n",
            "_________________________________________________________________\n",
            "dropout_2 (Dropout)          (None, 256)               0         \n",
            "_________________________________________________________________\n",
            "out_layer (Dense)            (None, 1)                 257       \n",
            "_________________________________________________________________\n",
            "activation_5 (Activation)    (None, 1)                 0         \n",
            "=================================================================\n",
            "Total params: 3,322,687\n",
            "Trainable params: 3,322,687\n",
            "Non-trainable params: 0\n",
            "_________________________________________________________________\n"
          ],
          "name": "stdout"
        }
      ]
    },
    {
      "cell_type": "code",
      "metadata": {
        "id": "xOz-mRpXAhbv",
        "colab": {
          "base_uri": "https://localhost:8080/"
        },
        "outputId": "a3c3c1b5-ad92-4db1-f36e-d0e5f122337f"
      },
      "source": [
        "start = time.time()\n",
        "model.fit(sequences_matrix,Y_train,batch_size=1024,epochs=10,\n",
        "          validation_split=0.2)\n",
        "end = time.time()"
      ],
      "execution_count": 57,
      "outputs": [
        {
          "output_type": "stream",
          "text": [
            "Epoch 1/10\n",
            "44/44 [==============================] - 3s 24ms/step - loss: 0.2531 - accuracy: 0.9376 - val_loss: 0.0109 - val_accuracy: 0.9987\n",
            "Epoch 2/10\n",
            "44/44 [==============================] - 1s 17ms/step - loss: 0.0041 - accuracy: 0.9993 - val_loss: 0.0045 - val_accuracy: 0.9991\n",
            "Epoch 3/10\n",
            "44/44 [==============================] - 1s 15ms/step - loss: 0.0017 - accuracy: 0.9997 - val_loss: 0.0037 - val_accuracy: 0.9992\n",
            "Epoch 4/10\n",
            "44/44 [==============================] - 1s 15ms/step - loss: 9.9605e-04 - accuracy: 0.9998 - val_loss: 0.0038 - val_accuracy: 0.9993\n",
            "Epoch 5/10\n",
            "44/44 [==============================] - 1s 16ms/step - loss: 5.0802e-04 - accuracy: 0.9998 - val_loss: 0.0042 - val_accuracy: 0.9993\n",
            "Epoch 6/10\n",
            "44/44 [==============================] - 1s 15ms/step - loss: 2.5850e-04 - accuracy: 0.9999 - val_loss: 0.0048 - val_accuracy: 0.9993\n",
            "Epoch 7/10\n",
            "44/44 [==============================] - 1s 15ms/step - loss: 5.3221e-05 - accuracy: 1.0000 - val_loss: 0.0048 - val_accuracy: 0.9994\n",
            "Epoch 8/10\n",
            "44/44 [==============================] - 1s 16ms/step - loss: 1.1194e-04 - accuracy: 1.0000 - val_loss: 0.0050 - val_accuracy: 0.9992\n",
            "Epoch 9/10\n",
            "44/44 [==============================] - 1s 15ms/step - loss: 2.3412e-06 - accuracy: 1.0000 - val_loss: 0.0054 - val_accuracy: 0.9990\n",
            "Epoch 10/10\n",
            "44/44 [==============================] - 1s 16ms/step - loss: 6.5254e-07 - accuracy: 1.0000 - val_loss: 0.0140 - val_accuracy: 0.9968\n"
          ],
          "name": "stdout"
        }
      ]
    },
    {
      "cell_type": "code",
      "metadata": {
        "colab": {
          "base_uri": "https://localhost:8080/"
        },
        "id": "G54bsuVV7OgH",
        "outputId": "e1163499-0d08-4d71-f373-4d09f2f1d6aa"
      },
      "source": [
        "exe_time = end - start\n",
        "print(exe_time)"
      ],
      "execution_count": 59,
      "outputs": [
        {
          "output_type": "stream",
          "text": [
            "8.837362051010132\n"
          ],
          "name": "stdout"
        }
      ]
    },
    {
      "cell_type": "code",
      "metadata": {
        "colab": {
          "base_uri": "https://localhost:8080/"
        },
        "id": "EnQSBFEJA85G",
        "outputId": "6f05c36f-1833-491a-b92b-a3c0db3f0507"
      },
      "source": [
        "start = time.time()\n",
        "model.evaluate(X_test, Y_test)\n",
        "end = time.time()\n",
        "exe_time = end - start\n",
        "print(exe_time)"
      ],
      "execution_count": 63,
      "outputs": [
        {
          "output_type": "stream",
          "text": [
            "438/438 [==============================] - 1s 3ms/step - loss: 0.0073 - accuracy: 0.9973\n",
            "1.1854941844940186\n"
          ],
          "name": "stdout"
        }
      ]
    },
    {
      "cell_type": "code",
      "metadata": {
        "colab": {
          "base_uri": "https://localhost:8080/"
        },
        "id": "DdYIHa9sEHe9",
        "outputId": "e042ea3f-4239-4671-f128-ccecc32c8f41"
      },
      "source": [
        "model.predict(np.array([X_test[4]]))"
      ],
      "execution_count": 64,
      "outputs": [
        {
          "output_type": "execute_result",
          "data": {
            "text/plain": [
              "array([[1.]], dtype=float32)"
            ]
          },
          "metadata": {
            "tags": []
          },
          "execution_count": 64
        }
      ]
    },
    {
      "cell_type": "code",
      "metadata": {
        "colab": {
          "base_uri": "https://localhost:8080/"
        },
        "id": "OyvRRx0AEL2D",
        "outputId": "366f24fd-f821-403b-ec0f-2f501fd7bb92"
      },
      "source": [
        "Y_test[4]"
      ],
      "execution_count": 65,
      "outputs": [
        {
          "output_type": "execute_result",
          "data": {
            "text/plain": [
              "1.0"
            ]
          },
          "metadata": {
            "tags": []
          },
          "execution_count": 65
        }
      ]
    }
  ]
}