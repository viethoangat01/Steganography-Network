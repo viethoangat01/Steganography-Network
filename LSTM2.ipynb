{
  "nbformat": 4,
  "nbformat_minor": 0,
  "metadata": {
    "colab": {
      "name": "LSTM2.ipynb",
      "provenance": [],
      "collapsed_sections": []
    },
    "kernelspec": {
      "name": "python3",
      "display_name": "Python 3"
    },
    "language_info": {
      "name": "python"
    },
    "accelerator": "GPU"
  },
  "cells": [
    {
      "cell_type": "code",
      "metadata": {
        "id": "fzpAH0Xjr39n"
      },
      "source": [
        "import pandas as pd\n",
        "import numpy as np\n",
        "import matplotlib.pyplot as plt\n",
        "import seaborn as sns\n",
        "import tensorflow as tf\n",
        "from sklearn.model_selection import train_test_split\n",
        "from sklearn.preprocessing import LabelEncoder\n",
        "from tensorflow.keras.models import Model\n",
        "from tensorflow.keras.layers import LSTM, Activation, Dense, Dropout, Input, Embedding\n",
        "from tensorflow.keras.optimizers import RMSprop\n",
        "from tensorflow.keras.preprocessing.text import Tokenizer\n",
        "from tensorflow.keras.preprocessing import sequence\n",
        "from tensorflow.keras.utils import to_categorical\n",
        "from tensorflow.keras.callbacks import EarlyStopping\n",
        "%matplotlib inline"
      ],
      "execution_count": 61,
      "outputs": []
    },
    {
      "cell_type": "code",
      "metadata": {
        "id": "MjunxNwgsMuY"
      },
      "source": [
        "#Import the dataset\n",
        "data_train=pd.read_csv('/content/drive/MyDrive/N12-Kĩ thuật giấu tin/DataTest/LSTM2/Train_56000.csv')\n",
        "data_test=pd.read_csv('/content/drive/MyDrive/N12-Kĩ thuật giấu tin/DataTest/LSTM2/Test_14000.csv')\n",
        "\n",
        "X_train=data_train.iloc[:56000,[1,2,3,4,5]].values\n",
        "Y_train=data_train.iloc[:56000,0].values\n",
        "\n",
        "X_test=data_test.iloc[:14000,[1,2,3,4,5]].values\n",
        "Y_test=data_test.iloc[:14000,0].values\n"
      ],
      "execution_count": 62,
      "outputs": []
    },
    {
      "cell_type": "code",
      "metadata": {
        "id": "mjzpDmnMAoLf"
      },
      "source": [
        "X_train, Y_train, X_test, Y_test = list(map(lambda x: np.array(x, dtype=np.float64), [X_train, Y_train, X_test, Y_test]))"
      ],
      "execution_count": 63,
      "outputs": []
    },
    {
      "cell_type": "code",
      "metadata": {
        "colab": {
          "base_uri": "https://localhost:8080/",
          "height": 194
        },
        "id": "KsMJpon1_aIu",
        "outputId": "94801e18-796b-4ea2-9b9c-2694a72e1d38"
      },
      "source": [
        "data_train.head()"
      ],
      "execution_count": 64,
      "outputs": [
        {
          "output_type": "execute_result",
          "data": {
            "text/html": [
              "<div>\n",
              "<style scoped>\n",
              "    .dataframe tbody tr th:only-of-type {\n",
              "        vertical-align: middle;\n",
              "    }\n",
              "\n",
              "    .dataframe tbody tr th {\n",
              "        vertical-align: top;\n",
              "    }\n",
              "\n",
              "    .dataframe thead th {\n",
              "        text-align: right;\n",
              "    }\n",
              "</style>\n",
              "<table border=\"1\" class=\"dataframe\">\n",
              "  <thead>\n",
              "    <tr style=\"text-align: right;\">\n",
              "      <th></th>\n",
              "      <th>LABEL</th>\n",
              "      <th>ip.proto</th>\n",
              "      <th>ip.id</th>\n",
              "      <th>tcp.seq_raw</th>\n",
              "      <th>frame.len</th>\n",
              "      <th>frame.cap_len</th>\n",
              "    </tr>\n",
              "  </thead>\n",
              "  <tbody>\n",
              "    <tr>\n",
              "      <th>0</th>\n",
              "      <td>1</td>\n",
              "      <td>1</td>\n",
              "      <td>39222</td>\n",
              "      <td>0</td>\n",
              "      <td>74</td>\n",
              "      <td>74</td>\n",
              "    </tr>\n",
              "    <tr>\n",
              "      <th>1</th>\n",
              "      <td>0</td>\n",
              "      <td>6</td>\n",
              "      <td>57919</td>\n",
              "      <td>4267710083</td>\n",
              "      <td>2962</td>\n",
              "      <td>66</td>\n",
              "    </tr>\n",
              "    <tr>\n",
              "      <th>2</th>\n",
              "      <td>1</td>\n",
              "      <td>6</td>\n",
              "      <td>30277</td>\n",
              "      <td>1082759981</td>\n",
              "      <td>266</td>\n",
              "      <td>266</td>\n",
              "    </tr>\n",
              "    <tr>\n",
              "      <th>3</th>\n",
              "      <td>1</td>\n",
              "      <td>6</td>\n",
              "      <td>33153</td>\n",
              "      <td>1083194381</td>\n",
              "      <td>166</td>\n",
              "      <td>166</td>\n",
              "    </tr>\n",
              "    <tr>\n",
              "      <th>4</th>\n",
              "      <td>0</td>\n",
              "      <td>6</td>\n",
              "      <td>62841</td>\n",
              "      <td>3618095064</td>\n",
              "      <td>79</td>\n",
              "      <td>66</td>\n",
              "    </tr>\n",
              "  </tbody>\n",
              "</table>\n",
              "</div>"
            ],
            "text/plain": [
              "   LABEL  ip.proto  ip.id  tcp.seq_raw  frame.len  frame.cap_len\n",
              "0      1         1  39222            0         74             74\n",
              "1      0         6  57919   4267710083       2962             66\n",
              "2      1         6  30277   1082759981        266            266\n",
              "3      1         6  33153   1083194381        166            166\n",
              "4      0         6  62841   3618095064         79             66"
            ]
          },
          "metadata": {
            "tags": []
          },
          "execution_count": 64
        }
      ]
    },
    {
      "cell_type": "code",
      "metadata": {
        "id": "ZFuXoeGWDh5j",
        "colab": {
          "base_uri": "https://localhost:8080/"
        },
        "outputId": "1bc76648-6061-443c-c534-8d038754e888"
      },
      "source": [
        "X_train[0]"
      ],
      "execution_count": 65,
      "outputs": [
        {
          "output_type": "execute_result",
          "data": {
            "text/plain": [
              "array([1.0000e+00, 3.9222e+04, 0.0000e+00, 7.4000e+01, 7.4000e+01])"
            ]
          },
          "metadata": {
            "tags": []
          },
          "execution_count": 65
        }
      ]
    },
    {
      "cell_type": "code",
      "metadata": {
        "id": "2-2mWVHx0Z9d"
      },
      "source": [
        "max_words = 65536\n",
        "max_len = 5\n",
        "# tok = Tokenizer(num_words=max_words)\n",
        "# tok.fit_on_texts(X_train)\n",
        "# sequences = tok.texts_to_sequences(X_train)\n",
        "#sequences_matrix = sequence.pad_sequences(sequences,maxlen=max_len)\n",
        "sequences_matrix = X_train\n",
        "Y_train = Y_train.reshape(-1, 1)"
      ],
      "execution_count": 66,
      "outputs": []
    },
    {
      "cell_type": "code",
      "metadata": {
        "id": "BiD9P0muZcvJ"
      },
      "source": [
        "tcp_train = X_train[:, 2]\n",
        "tcp_test = X_test[:, 2]"
      ],
      "execution_count": 67,
      "outputs": []
    },
    {
      "cell_type": "code",
      "metadata": {
        "id": "R5ggE3e0dn2F"
      },
      "source": [
        "#Trộn train+test\n",
        "tcp = np.concatenate([tcp_train, tcp_test])"
      ],
      "execution_count": 68,
      "outputs": []
    },
    {
      "cell_type": "code",
      "metadata": {
        "colab": {
          "base_uri": "https://localhost:8080/"
        },
        "id": "v5PuNgMLeHV9",
        "outputId": "d28363da-8acd-466f-e4a6-1956f8c0eb68"
      },
      "source": [
        "tcp.shape"
      ],
      "execution_count": 69,
      "outputs": [
        {
          "output_type": "execute_result",
          "data": {
            "text/plain": [
              "(70000,)"
            ]
          },
          "metadata": {
            "tags": []
          },
          "execution_count": 69
        }
      ]
    },
    {
      "cell_type": "code",
      "metadata": {
        "colab": {
          "base_uri": "https://localhost:8080/"
        },
        "id": "-UbR_20hBUJ7",
        "outputId": "adb08d74-369e-409a-c21c-9e4ba5b6efc7"
      },
      "source": [
        "#Sort tcp_test\n",
        "tcp_set = list(set(tcp))\n",
        "tcp_sort = list(np.sort(tcp_set))\n",
        "len(tcp_set)"
      ],
      "execution_count": 70,
      "outputs": [
        {
          "output_type": "execute_result",
          "data": {
            "text/plain": [
              "47681"
            ]
          },
          "metadata": {
            "tags": []
          },
          "execution_count": 70
        }
      ]
    },
    {
      "cell_type": "code",
      "metadata": {
        "id": "h3GKBlm9ayRX"
      },
      "source": [
        "#Đánh index value tcp_train và tcp_test= index trong tcp+sort\n",
        "result_train = []\n",
        "result_test = []\n",
        "for value in tcp_train:\n",
        "  index = tcp_sort.index(value)\n",
        "  result_train.append(index)\n",
        "\n",
        "for value in tcp_test:\n",
        "  index = tcp_sort.index(value)\n",
        "  result_test.append(index)\n",
        "\n",
        "result_train = np.array(result_train)\n",
        "result_test = np.array(result_test)"
      ],
      "execution_count": 71,
      "outputs": []
    },
    {
      "cell_type": "code",
      "metadata": {
        "id": "9xL4G3ddfNwp"
      },
      "source": [
        "1, int -> smaller\n",
        "2, 8, 9 -> 1, 2"
      ],
      "execution_count": null,
      "outputs": []
    },
    {
      "cell_type": "code",
      "metadata": {
        "colab": {
          "base_uri": "https://localhost:8080/"
        },
        "id": "NDFY1DI1cUF9",
        "outputId": "763c11c5-b2c6-4c04-bfb4-2dd8ab081ee9"
      },
      "source": [
        "np.max(result_test)"
      ],
      "execution_count": 72,
      "outputs": [
        {
          "output_type": "execute_result",
          "data": {
            "text/plain": [
              "47680"
            ]
          },
          "metadata": {
            "tags": []
          },
          "execution_count": 72
        }
      ]
    },
    {
      "cell_type": "code",
      "metadata": {
        "id": "gGsKdbk9bnRf"
      },
      "source": [
        "X_train[:, 2] = result_train\n",
        "X_test[:, 2] = result_test"
      ],
      "execution_count": 73,
      "outputs": []
    },
    {
      "cell_type": "code",
      "metadata": {
        "id": "rypTP-SR_2Ks"
      },
      "source": [
        "def RNN():\n",
        "    inputs = Input(name='inputs',shape=[max_len])\n",
        "    layer = Embedding(max_words,50,input_length=max_len)(inputs)\n",
        "    layer = LSTM(64)(layer)\n",
        "    # layer = Merge([max_len, context_model], mode=\"dot\", dot_axes=0)(layer)\n",
        "    layer = Dense(256,name='FC1')(layer)\n",
        "    layer = Activation('relu')(layer)\n",
        "    layer = Dropout(0.5)(layer)\n",
        "    layer = Dense(1,name='out_layer')(layer)\n",
        "    layer = Activation('sigmoid')(layer)\n",
        "    model = Model(inputs=inputs,outputs=layer)\n",
        "    return model"
      ],
      "execution_count": 74,
      "outputs": []
    },
    {
      "cell_type": "code",
      "metadata": {
        "colab": {
          "base_uri": "https://localhost:8080/"
        },
        "id": "2bY6ht-eAZAA",
        "outputId": "1f8506e2-0629-4047-88cd-a4b9823d49c0"
      },
      "source": [
        "model = RNN()\n",
        "model.summary()\n",
        "model.compile(loss='binary_crossentropy',optimizer=RMSprop(),metrics=['accuracy'])"
      ],
      "execution_count": 42,
      "outputs": [
        {
          "output_type": "stream",
          "text": [
            "Model: \"model_3\"\n",
            "_________________________________________________________________\n",
            "Layer (type)                 Output Shape              Param #   \n",
            "=================================================================\n",
            "inputs (InputLayer)          [(None, 5)]               0         \n",
            "_________________________________________________________________\n",
            "embedding_3 (Embedding)      (None, 5, 50)             3276800   \n",
            "_________________________________________________________________\n",
            "lstm_3 (LSTM)                (None, 64)                29440     \n",
            "_________________________________________________________________\n",
            "FC1 (Dense)                  (None, 256)               16640     \n",
            "_________________________________________________________________\n",
            "activation_6 (Activation)    (None, 256)               0         \n",
            "_________________________________________________________________\n",
            "dropout_3 (Dropout)          (None, 256)               0         \n",
            "_________________________________________________________________\n",
            "out_layer (Dense)            (None, 1)                 257       \n",
            "_________________________________________________________________\n",
            "activation_7 (Activation)    (None, 1)                 0         \n",
            "=================================================================\n",
            "Total params: 3,323,137\n",
            "Trainable params: 3,323,137\n",
            "Non-trainable params: 0\n",
            "_________________________________________________________________\n"
          ],
          "name": "stdout"
        }
      ]
    },
    {
      "cell_type": "code",
      "metadata": {
        "id": "xOz-mRpXAhbv"
      },
      "source": [
        "model.fit(sequences_matrix,Y_train,batch_size=1024,epochs=10,\n",
        "          validation_split=0.2)"
      ],
      "execution_count": null,
      "outputs": []
    },
    {
      "cell_type": "code",
      "metadata": {
        "colab": {
          "base_uri": "https://localhost:8080/"
        },
        "id": "EnQSBFEJA85G",
        "outputId": "9f775872-45ff-41a2-feef-99b0627c6f4d"
      },
      "source": [
        "model.evaluate(X_test, Y_test)"
      ],
      "execution_count": 56,
      "outputs": [
        {
          "output_type": "stream",
          "text": [
            "438/438 [==============================] - 1s 3ms/step - loss: 0.1004 - accuracy: 0.9714\n"
          ],
          "name": "stdout"
        },
        {
          "output_type": "execute_result",
          "data": {
            "text/plain": [
              "[0.10040238499641418, 0.9713571667671204]"
            ]
          },
          "metadata": {
            "tags": []
          },
          "execution_count": 56
        }
      ]
    },
    {
      "cell_type": "code",
      "metadata": {
        "colab": {
          "base_uri": "https://localhost:8080/"
        },
        "id": "DdYIHa9sEHe9",
        "outputId": "d74756ea-cf59-4bdd-906c-b830a38a18b4"
      },
      "source": [
        "model.predict(np.array([X_test[4]]))"
      ],
      "execution_count": null,
      "outputs": [
        {
          "output_type": "execute_result",
          "data": {
            "text/plain": [
              "array([[0.9999355]], dtype=float32)"
            ]
          },
          "metadata": {
            "tags": []
          },
          "execution_count": 54
        }
      ]
    },
    {
      "cell_type": "code",
      "metadata": {
        "colab": {
          "base_uri": "https://localhost:8080/"
        },
        "id": "OyvRRx0AEL2D",
        "outputId": "b0e6f85c-c6ee-4ab9-d3e8-ae4ae847cb38"
      },
      "source": [
        "Y_test[4]"
      ],
      "execution_count": null,
      "outputs": [
        {
          "output_type": "execute_result",
          "data": {
            "text/plain": [
              "1.0"
            ]
          },
          "metadata": {
            "tags": []
          },
          "execution_count": 55
        }
      ]
    }
  ]
}