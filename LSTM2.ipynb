{
  "nbformat": 4,
  "nbformat_minor": 0,
  "metadata": {
    "colab": {
      "name": "LSTM2.ipynb",
      "provenance": [],
      "collapsed_sections": []
    },
    "kernelspec": {
      "name": "python3",
      "display_name": "Python 3"
    },
    "language_info": {
      "name": "python"
    },
    "accelerator": "GPU"
  },
  "cells": [
    {
      "cell_type": "code",
      "metadata": {
        "id": "fzpAH0Xjr39n"
      },
      "source": [
        "import pandas as pd\n",
        "import numpy as np\n",
        "import matplotlib.pyplot as plt\n",
        "import seaborn as sns\n",
        "import tensorflow as tf\n",
        "from sklearn.model_selection import train_test_split\n",
        "from sklearn.preprocessing import LabelEncoder\n",
        "from tensorflow.keras.models import Model\n",
        "from tensorflow.keras.layers import LSTM, Activation, Dense, Dropout, Input, Embedding\n",
        "from tensorflow.keras.optimizers import RMSprop\n",
        "from tensorflow.keras.preprocessing.text import Tokenizer\n",
        "from tensorflow.keras.preprocessing import sequence\n",
        "from tensorflow.keras.utils import to_categorical\n",
        "from tensorflow.keras.callbacks import EarlyStopping\n",
        "%matplotlib inline"
      ],
      "execution_count": 1,
      "outputs": []
    },
    {
      "cell_type": "code",
      "metadata": {
        "id": "MjunxNwgsMuY"
      },
      "source": [
        "#Import the dataset\n",
        "data_train=pd.read_csv('/content/drive/MyDrive/N12-Kĩ thuật giấu tin/DataTest/LSTM2/Train_56000.csv')\n",
        "data_test=pd.read_csv('/content/drive/MyDrive/N12-Kĩ thuật giấu tin/DataTest/LSTM2/Test_14000.csv')\n",
        "\n",
        "X_train=data_train.iloc[:56000,[1,2,3,4,5]].values\n",
        "Y_train=data_train.iloc[:56000,0].values\n",
        "\n",
        "X_test=data_test.iloc[:14000,[1,2,3,4,5]].values\n",
        "Y_test=data_test.iloc[:14000,0].values\n"
      ],
      "execution_count": 2,
      "outputs": []
    },
    {
      "cell_type": "code",
      "metadata": {
        "id": "mjzpDmnMAoLf"
      },
      "source": [
        "X_train, Y_train, X_test, Y_test = list(map(lambda x: np.array(x, dtype=np.float64), [X_train, Y_train, X_test, Y_test]))"
      ],
      "execution_count": 3,
      "outputs": []
    },
    {
      "cell_type": "code",
      "metadata": {
        "colab": {
          "base_uri": "https://localhost:8080/",
          "height": 194
        },
        "id": "KsMJpon1_aIu",
        "outputId": "e5cf6851-3d3d-4d34-ad53-c66e91084885"
      },
      "source": [
        "data_train.head()"
      ],
      "execution_count": 4,
      "outputs": [
        {
          "output_type": "execute_result",
          "data": {
            "text/html": [
              "<div>\n",
              "<style scoped>\n",
              "    .dataframe tbody tr th:only-of-type {\n",
              "        vertical-align: middle;\n",
              "    }\n",
              "\n",
              "    .dataframe tbody tr th {\n",
              "        vertical-align: top;\n",
              "    }\n",
              "\n",
              "    .dataframe thead th {\n",
              "        text-align: right;\n",
              "    }\n",
              "</style>\n",
              "<table border=\"1\" class=\"dataframe\">\n",
              "  <thead>\n",
              "    <tr style=\"text-align: right;\">\n",
              "      <th></th>\n",
              "      <th>LABEL</th>\n",
              "      <th>ip.proto</th>\n",
              "      <th>ip.id</th>\n",
              "      <th>tcp.seq_raw</th>\n",
              "      <th>frame.len</th>\n",
              "      <th>frame.cap_len</th>\n",
              "    </tr>\n",
              "  </thead>\n",
              "  <tbody>\n",
              "    <tr>\n",
              "      <th>0</th>\n",
              "      <td>1</td>\n",
              "      <td>1</td>\n",
              "      <td>39222</td>\n",
              "      <td>0</td>\n",
              "      <td>74</td>\n",
              "      <td>74</td>\n",
              "    </tr>\n",
              "    <tr>\n",
              "      <th>1</th>\n",
              "      <td>0</td>\n",
              "      <td>6</td>\n",
              "      <td>57919</td>\n",
              "      <td>4267710083</td>\n",
              "      <td>2962</td>\n",
              "      <td>66</td>\n",
              "    </tr>\n",
              "    <tr>\n",
              "      <th>2</th>\n",
              "      <td>1</td>\n",
              "      <td>6</td>\n",
              "      <td>30277</td>\n",
              "      <td>1082759981</td>\n",
              "      <td>266</td>\n",
              "      <td>266</td>\n",
              "    </tr>\n",
              "    <tr>\n",
              "      <th>3</th>\n",
              "      <td>1</td>\n",
              "      <td>6</td>\n",
              "      <td>33153</td>\n",
              "      <td>1083194381</td>\n",
              "      <td>166</td>\n",
              "      <td>166</td>\n",
              "    </tr>\n",
              "    <tr>\n",
              "      <th>4</th>\n",
              "      <td>0</td>\n",
              "      <td>6</td>\n",
              "      <td>62841</td>\n",
              "      <td>3618095064</td>\n",
              "      <td>79</td>\n",
              "      <td>66</td>\n",
              "    </tr>\n",
              "  </tbody>\n",
              "</table>\n",
              "</div>"
            ],
            "text/plain": [
              "   LABEL  ip.proto  ip.id  tcp.seq_raw  frame.len  frame.cap_len\n",
              "0      1         1  39222            0         74             74\n",
              "1      0         6  57919   4267710083       2962             66\n",
              "2      1         6  30277   1082759981        266            266\n",
              "3      1         6  33153   1083194381        166            166\n",
              "4      0         6  62841   3618095064         79             66"
            ]
          },
          "metadata": {
            "tags": []
          },
          "execution_count": 4
        }
      ]
    },
    {
      "cell_type": "code",
      "metadata": {
        "id": "ZFuXoeGWDh5j",
        "colab": {
          "base_uri": "https://localhost:8080/"
        },
        "outputId": "3b18e80c-9eda-45a5-8e57-90cee038de56"
      },
      "source": [
        "X_train[0]"
      ],
      "execution_count": 5,
      "outputs": [
        {
          "output_type": "execute_result",
          "data": {
            "text/plain": [
              "array([1.0000e+00, 3.9222e+04, 0.0000e+00, 7.4000e+01, 7.4000e+01])"
            ]
          },
          "metadata": {
            "tags": []
          },
          "execution_count": 5
        }
      ]
    },
    {
      "cell_type": "code",
      "metadata": {
        "id": "2-2mWVHx0Z9d"
      },
      "source": [
        "max_words = 65536\n",
        "max_len = 5\n",
        "# tok = Tokenizer(num_words=max_words)\n",
        "# tok.fit_on_texts(X_train)\n",
        "# sequences = tok.texts_to_sequences(X_train)\n",
        "#sequences_matrix = sequence.pad_sequences(sequences,maxlen=max_len)\n",
        "sequences_matrix = X_train\n",
        "Y_train = Y_train.reshape(-1, 1)"
      ],
      "execution_count": 6,
      "outputs": []
    },
    {
      "cell_type": "code",
      "metadata": {
        "id": "BiD9P0muZcvJ"
      },
      "source": [
        "tcp_train = X_train[:, 2]\n",
        "tcp_test = X_test[:, 2]"
      ],
      "execution_count": 7,
      "outputs": []
    },
    {
      "cell_type": "code",
      "metadata": {
        "id": "R5ggE3e0dn2F"
      },
      "source": [
        "#Trộn train+test\n",
        "tcp = np.concatenate([tcp_train, tcp_test])"
      ],
      "execution_count": 8,
      "outputs": []
    },
    {
      "cell_type": "code",
      "metadata": {
        "colab": {
          "base_uri": "https://localhost:8080/"
        },
        "id": "v5PuNgMLeHV9",
        "outputId": "365b7382-98c7-4587-e898-59e58c889ac0"
      },
      "source": [
        "tcp.shape"
      ],
      "execution_count": 9,
      "outputs": [
        {
          "output_type": "execute_result",
          "data": {
            "text/plain": [
              "(70000,)"
            ]
          },
          "metadata": {
            "tags": []
          },
          "execution_count": 9
        }
      ]
    },
    {
      "cell_type": "code",
      "metadata": {
        "colab": {
          "base_uri": "https://localhost:8080/"
        },
        "id": "-UbR_20hBUJ7",
        "outputId": "cdd8659d-6b09-40b3-a4f8-9ce166efa59b"
      },
      "source": [
        "#Sort tcp_test\n",
        "tcp_set = list(set(tcp))\n",
        "tcp_sort = list(np.sort(tcp_set))\n",
        "len(tcp_set)"
      ],
      "execution_count": 10,
      "outputs": [
        {
          "output_type": "execute_result",
          "data": {
            "text/plain": [
              "47681"
            ]
          },
          "metadata": {
            "tags": []
          },
          "execution_count": 10
        }
      ]
    },
    {
      "cell_type": "code",
      "metadata": {
        "id": "h3GKBlm9ayRX"
      },
      "source": [
        "#Đánh index value tcp_train và tcp_test= index trong tcp+sort\n",
        "result_train = []\n",
        "result_test = []\n",
        "for value in tcp_train:\n",
        "  index = tcp_sort.index(value)\n",
        "  result_train.append(index)\n",
        "\n",
        "for value in tcp_test:\n",
        "  index = tcp_sort.index(value)\n",
        "  result_test.append(index)\n",
        "\n",
        "result_train = np.array(result_train)\n",
        "result_test = np.array(result_test)"
      ],
      "execution_count": 11,
      "outputs": []
    },
    {
      "cell_type": "code",
      "metadata": {
        "colab": {
          "base_uri": "https://localhost:8080/"
        },
        "id": "NDFY1DI1cUF9",
        "outputId": "53a2baab-cea3-466b-c93b-54a659625241"
      },
      "source": [
        "np.max(result_test)"
      ],
      "execution_count": 13,
      "outputs": [
        {
          "output_type": "execute_result",
          "data": {
            "text/plain": [
              "47680"
            ]
          },
          "metadata": {
            "tags": []
          },
          "execution_count": 13
        }
      ]
    },
    {
      "cell_type": "code",
      "metadata": {
        "id": "gGsKdbk9bnRf"
      },
      "source": [
        "X_train[:, 2] = result_train\n",
        "X_test[:, 2] = result_test"
      ],
      "execution_count": 14,
      "outputs": []
    },
    {
      "cell_type": "code",
      "metadata": {
        "id": "rypTP-SR_2Ks"
      },
      "source": [
        "def RNN():\n",
        "    inputs = Input(name='inputs',shape=[max_len])\n",
        "    layer = Embedding(max_words,50,input_length=max_len)(inputs)\n",
        "    layer = LSTM(64)(layer)\n",
        "    # layer = Merge([max_len, context_model], mode=\"dot\", dot_axes=0)(layer)\n",
        "    layer = Dense(256,name='FC1')(layer)\n",
        "    layer = Activation('relu')(layer)\n",
        "    layer = Dropout(0.5)(layer)\n",
        "    layer = Dense(1,name='out_layer')(layer)\n",
        "    layer = Activation('sigmoid')(layer)\n",
        "    model = Model(inputs=inputs,outputs=layer)\n",
        "    return model"
      ],
      "execution_count": 15,
      "outputs": []
    },
    {
      "cell_type": "code",
      "metadata": {
        "colab": {
          "base_uri": "https://localhost:8080/"
        },
        "id": "2bY6ht-eAZAA",
        "outputId": "2f3a66b1-9628-43f9-c762-65605afb801a"
      },
      "source": [
        "model = RNN()\n",
        "model.summary()\n",
        "model.compile(loss='binary_crossentropy',optimizer=RMSprop(),metrics=['accuracy'])"
      ],
      "execution_count": 16,
      "outputs": [
        {
          "output_type": "stream",
          "text": [
            "Model: \"model\"\n",
            "_________________________________________________________________\n",
            "Layer (type)                 Output Shape              Param #   \n",
            "=================================================================\n",
            "inputs (InputLayer)          [(None, 5)]               0         \n",
            "_________________________________________________________________\n",
            "embedding (Embedding)        (None, 5, 50)             3276800   \n",
            "_________________________________________________________________\n",
            "lstm (LSTM)                  (None, 64)                29440     \n",
            "_________________________________________________________________\n",
            "FC1 (Dense)                  (None, 256)               16640     \n",
            "_________________________________________________________________\n",
            "activation (Activation)      (None, 256)               0         \n",
            "_________________________________________________________________\n",
            "dropout (Dropout)            (None, 256)               0         \n",
            "_________________________________________________________________\n",
            "out_layer (Dense)            (None, 1)                 257       \n",
            "_________________________________________________________________\n",
            "activation_1 (Activation)    (None, 1)                 0         \n",
            "=================================================================\n",
            "Total params: 3,323,137\n",
            "Trainable params: 3,323,137\n",
            "Non-trainable params: 0\n",
            "_________________________________________________________________\n"
          ],
          "name": "stdout"
        }
      ]
    },
    {
      "cell_type": "code",
      "metadata": {
        "id": "xOz-mRpXAhbv",
        "colab": {
          "base_uri": "https://localhost:8080/"
        },
        "outputId": "a830a833-b09f-4ec3-8963-f4b73b98369f"
      },
      "source": [
        "model.fit(sequences_matrix,Y_train,batch_size=1024,epochs=10,\n",
        "          validation_split=0.2)"
      ],
      "execution_count": 17,
      "outputs": [
        {
          "output_type": "stream",
          "text": [
            "Epoch 1/10\n",
            "44/44 [==============================] - 9s 25ms/step - loss: 0.2542 - accuracy: 0.9399 - val_loss: 0.0158 - val_accuracy: 0.9978\n",
            "Epoch 2/10\n",
            "44/44 [==============================] - 1s 15ms/step - loss: 0.0061 - accuracy: 0.9987 - val_loss: 0.0060 - val_accuracy: 0.9982\n",
            "Epoch 3/10\n",
            "44/44 [==============================] - 1s 16ms/step - loss: 0.0023 - accuracy: 0.9994 - val_loss: 0.0083 - val_accuracy: 0.9979\n",
            "Epoch 4/10\n",
            "44/44 [==============================] - 1s 17ms/step - loss: 9.4713e-04 - accuracy: 0.9997 - val_loss: 0.0058 - val_accuracy: 0.9984\n",
            "Epoch 5/10\n",
            "44/44 [==============================] - 1s 16ms/step - loss: 4.7272e-04 - accuracy: 0.9998 - val_loss: 0.0059 - val_accuracy: 0.9989\n",
            "Epoch 6/10\n",
            "44/44 [==============================] - 1s 15ms/step - loss: 1.1858e-04 - accuracy: 1.0000 - val_loss: 0.0100 - val_accuracy: 0.9980\n",
            "Epoch 7/10\n",
            "44/44 [==============================] - 1s 16ms/step - loss: 2.6624e-04 - accuracy: 0.9999 - val_loss: 0.0073 - val_accuracy: 0.9985\n",
            "Epoch 8/10\n",
            "44/44 [==============================] - 1s 16ms/step - loss: 6.3831e-05 - accuracy: 1.0000 - val_loss: 0.0081 - val_accuracy: 0.9989\n",
            "Epoch 9/10\n",
            "44/44 [==============================] - 1s 16ms/step - loss: 2.1034e-05 - accuracy: 1.0000 - val_loss: 0.0079 - val_accuracy: 0.9985\n",
            "Epoch 10/10\n",
            "44/44 [==============================] - 1s 16ms/step - loss: 1.4481e-06 - accuracy: 1.0000 - val_loss: 0.0086 - val_accuracy: 0.9987\n"
          ],
          "name": "stdout"
        },
        {
          "output_type": "execute_result",
          "data": {
            "text/plain": [
              "<tensorflow.python.keras.callbacks.History at 0x7f8770201e50>"
            ]
          },
          "metadata": {
            "tags": []
          },
          "execution_count": 17
        }
      ]
    },
    {
      "cell_type": "code",
      "metadata": {
        "colab": {
          "base_uri": "https://localhost:8080/"
        },
        "id": "EnQSBFEJA85G",
        "outputId": "aee92f02-0847-48c1-ad59-ece23ef5dad6"
      },
      "source": [
        "model.evaluate(X_test, Y_test)"
      ],
      "execution_count": 18,
      "outputs": [
        {
          "output_type": "stream",
          "text": [
            "438/438 [==============================] - 1s 3ms/step - loss: 0.0053 - accuracy: 0.9983\n"
          ],
          "name": "stdout"
        },
        {
          "output_type": "execute_result",
          "data": {
            "text/plain": [
              "[0.005315485876053572, 0.998285710811615]"
            ]
          },
          "metadata": {
            "tags": []
          },
          "execution_count": 18
        }
      ]
    },
    {
      "cell_type": "code",
      "metadata": {
        "colab": {
          "base_uri": "https://localhost:8080/"
        },
        "id": "DdYIHa9sEHe9",
        "outputId": "836d416a-fdcb-447a-c118-fb9425b5f120"
      },
      "source": [
        "model.predict(np.array([X_test[4]]))"
      ],
      "execution_count": 19,
      "outputs": [
        {
          "output_type": "execute_result",
          "data": {
            "text/plain": [
              "array([[1.]], dtype=float32)"
            ]
          },
          "metadata": {
            "tags": []
          },
          "execution_count": 19
        }
      ]
    },
    {
      "cell_type": "code",
      "metadata": {
        "colab": {
          "base_uri": "https://localhost:8080/"
        },
        "id": "OyvRRx0AEL2D",
        "outputId": "c1c49e4d-9aca-460c-ed36-f338267784bc"
      },
      "source": [
        "Y_test[4]"
      ],
      "execution_count": 20,
      "outputs": [
        {
          "output_type": "execute_result",
          "data": {
            "text/plain": [
              "1.0"
            ]
          },
          "metadata": {
            "tags": []
          },
          "execution_count": 20
        }
      ]
    }
  ]
}