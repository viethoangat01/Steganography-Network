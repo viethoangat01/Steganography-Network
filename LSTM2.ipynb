{
  "nbformat": 4,
  "nbformat_minor": 0,
  "metadata": {
    "colab": {
      "name": "LSTM2.ipynb",
      "provenance": [],
      "collapsed_sections": []
    },
    "kernelspec": {
      "name": "python3",
      "display_name": "Python 3"
    },
    "language_info": {
      "name": "python"
    },
    "accelerator": "GPU"
  },
  "cells": [
    {
      "cell_type": "code",
      "metadata": {
        "id": "fzpAH0Xjr39n"
      },
      "source": [
        "import pandas as pd\n",
        "import numpy as np\n",
        "import matplotlib.pyplot as plt\n",
        "import seaborn as sns\n",
        "import time\n",
        "import tensorflow as tf\n",
        "from sklearn.model_selection import train_test_split\n",
        "from sklearn.preprocessing import LabelEncoder\n",
        "from tensorflow.keras.models import Model\n",
        "from tensorflow.keras.layers import LSTM, Activation, Dense, Dropout, Input, Embedding\n",
        "from tensorflow.keras.optimizers import RMSprop\n",
        "from tensorflow.keras.preprocessing.text import Tokenizer\n",
        "from tensorflow.keras.preprocessing import sequence\n",
        "from tensorflow.keras.utils import to_categorical\n",
        "from tensorflow.keras.callbacks import EarlyStopping\n",
        "from time import sleep\n",
        "\n",
        "%matplotlib inline"
      ],
      "execution_count": 66,
      "outputs": []
    },
    {
      "cell_type": "code",
      "metadata": {
        "id": "MjunxNwgsMuY"
      },
      "source": [
        "#Import the dataset\n",
        "data_train=pd.read_csv('/content/drive/MyDrive/N12-Kĩ thuật giấu tin/CSV/2 patterns (P1-P5)/LẦN 2/Train_560.000.csv')\n",
        "data_test=pd.read_csv('/content/drive/MyDrive/N12-Kĩ thuật giấu tin/CSV/2 patterns (P1-P5)/LẦN 2/Test_140.000.csv')\n",
        "\n",
        "X_train=data_train.iloc[:560000,[1,2,3,4,5]].values\n",
        "Y_train=data_train.iloc[:560000,0].values\n",
        "\n",
        "X_test=data_test.iloc[:140000,[1,2,3,4,5]].values\n",
        "Y_test=data_test.iloc[:140000,0].values\n"
      ],
      "execution_count": 67,
      "outputs": []
    },
    {
      "cell_type": "code",
      "metadata": {
        "id": "mjzpDmnMAoLf"
      },
      "source": [
        "X_train, Y_train, X_test, Y_test = list(map(lambda x: np.array(x, dtype=np.float64), [X_train, Y_train, X_test, Y_test]))"
      ],
      "execution_count": 68,
      "outputs": []
    },
    {
      "cell_type": "code",
      "metadata": {
        "colab": {
          "base_uri": "https://localhost:8080/",
          "height": 194
        },
        "id": "KsMJpon1_aIu",
        "outputId": "be23b8d7-f1b1-4053-8c28-354fe2df3928"
      },
      "source": [
        "data_train.head()"
      ],
      "execution_count": 69,
      "outputs": [
        {
          "output_type": "execute_result",
          "data": {
            "text/html": [
              "<div>\n",
              "<style scoped>\n",
              "    .dataframe tbody tr th:only-of-type {\n",
              "        vertical-align: middle;\n",
              "    }\n",
              "\n",
              "    .dataframe tbody tr th {\n",
              "        vertical-align: top;\n",
              "    }\n",
              "\n",
              "    .dataframe thead th {\n",
              "        text-align: right;\n",
              "    }\n",
              "</style>\n",
              "<table border=\"1\" class=\"dataframe\">\n",
              "  <thead>\n",
              "    <tr style=\"text-align: right;\">\n",
              "      <th></th>\n",
              "      <th>LABEL</th>\n",
              "      <th>ip.proto</th>\n",
              "      <th>ip.id</th>\n",
              "      <th>tcp.seq_raw</th>\n",
              "      <th>frame.len</th>\n",
              "      <th>frame.cap_len</th>\n",
              "    </tr>\n",
              "  </thead>\n",
              "  <tbody>\n",
              "    <tr>\n",
              "      <th>0</th>\n",
              "      <td>0</td>\n",
              "      <td>6</td>\n",
              "      <td>47010</td>\n",
              "      <td>698643808</td>\n",
              "      <td>1420</td>\n",
              "      <td>66</td>\n",
              "    </tr>\n",
              "    <tr>\n",
              "      <th>1</th>\n",
              "      <td>1</td>\n",
              "      <td>6</td>\n",
              "      <td>29184</td>\n",
              "      <td>3590455296</td>\n",
              "      <td>56</td>\n",
              "      <td>56</td>\n",
              "    </tr>\n",
              "    <tr>\n",
              "      <th>2</th>\n",
              "      <td>1</td>\n",
              "      <td>6</td>\n",
              "      <td>10496</td>\n",
              "      <td>1845493760</td>\n",
              "      <td>56</td>\n",
              "      <td>56</td>\n",
              "    </tr>\n",
              "    <tr>\n",
              "      <th>3</th>\n",
              "      <td>0</td>\n",
              "      <td>6</td>\n",
              "      <td>19580</td>\n",
              "      <td>958742619</td>\n",
              "      <td>66</td>\n",
              "      <td>66</td>\n",
              "    </tr>\n",
              "    <tr>\n",
              "      <th>4</th>\n",
              "      <td>0</td>\n",
              "      <td>6</td>\n",
              "      <td>16933</td>\n",
              "      <td>2240452449</td>\n",
              "      <td>54</td>\n",
              "      <td>54</td>\n",
              "    </tr>\n",
              "  </tbody>\n",
              "</table>\n",
              "</div>"
            ],
            "text/plain": [
              "   LABEL  ip.proto  ip.id  tcp.seq_raw  frame.len  frame.cap_len\n",
              "0      0         6  47010    698643808       1420             66\n",
              "1      1         6  29184   3590455296         56             56\n",
              "2      1         6  10496   1845493760         56             56\n",
              "3      0         6  19580    958742619         66             66\n",
              "4      0         6  16933   2240452449         54             54"
            ]
          },
          "metadata": {
            "tags": []
          },
          "execution_count": 69
        }
      ]
    },
    {
      "cell_type": "code",
      "metadata": {
        "id": "ZFuXoeGWDh5j",
        "colab": {
          "base_uri": "https://localhost:8080/"
        },
        "outputId": "8534ec45-f0d4-4348-a620-af18cde1238d"
      },
      "source": [
        "X_train[0]"
      ],
      "execution_count": 70,
      "outputs": [
        {
          "output_type": "execute_result",
          "data": {
            "text/plain": [
              "array([6.00000000e+00, 4.70100000e+04, 6.98643808e+08, 1.42000000e+03,\n",
              "       6.60000000e+01])"
            ]
          },
          "metadata": {
            "tags": []
          },
          "execution_count": 70
        }
      ]
    },
    {
      "cell_type": "code",
      "metadata": {
        "id": "2-2mWVHx0Z9d"
      },
      "source": [
        "max_words = 432957\n",
        "max_len = 5\n",
        "# tok = Tokenizer(num_words=max_words)\n",
        "# tok.fit_on_texts(X_train)\n",
        "# sequences = tok.texts_to_sequences(X_train)\n",
        "#sequences_matrix = sequence.pad_sequences(sequences,maxlen=max_len)\n",
        "sequences_matrix = X_train\n",
        "Y_train = Y_train.reshape(-1, 1)"
      ],
      "execution_count": 84,
      "outputs": []
    },
    {
      "cell_type": "code",
      "metadata": {
        "id": "BiD9P0muZcvJ"
      },
      "source": [
        "tcp_train = X_train[:, 2]\n",
        "tcp_test = X_test[:, 2]"
      ],
      "execution_count": 72,
      "outputs": []
    },
    {
      "cell_type": "code",
      "metadata": {
        "id": "R5ggE3e0dn2F"
      },
      "source": [
        "#Trộn train+test\n",
        "tcp = np.concatenate([tcp_train, tcp_test])"
      ],
      "execution_count": 73,
      "outputs": []
    },
    {
      "cell_type": "code",
      "metadata": {
        "colab": {
          "base_uri": "https://localhost:8080/"
        },
        "id": "v5PuNgMLeHV9",
        "outputId": "4155ce59-bc07-4bc8-ad6d-611e93bcb17a"
      },
      "source": [
        "tcp.shape"
      ],
      "execution_count": 74,
      "outputs": [
        {
          "output_type": "execute_result",
          "data": {
            "text/plain": [
              "(700000,)"
            ]
          },
          "metadata": {
            "tags": []
          },
          "execution_count": 74
        }
      ]
    },
    {
      "cell_type": "code",
      "metadata": {
        "colab": {
          "base_uri": "https://localhost:8080/"
        },
        "id": "-UbR_20hBUJ7",
        "outputId": "6f00f7fd-9326-4486-8eb4-ed9189868859"
      },
      "source": [
        "#Sort tcp_test\n",
        "tcp_set = list(set(tcp))\n",
        "tcp_sort = list(np.sort(tcp_set))\n",
        "len(tcp_set)"
      ],
      "execution_count": 75,
      "outputs": [
        {
          "output_type": "execute_result",
          "data": {
            "text/plain": [
              "432957"
            ]
          },
          "metadata": {
            "tags": []
          },
          "execution_count": 75
        }
      ]
    },
    {
      "cell_type": "code",
      "metadata": {
        "id": "h3GKBlm9ayRX"
      },
      "source": [
        "#Đánh index value tcp_train và tcp_test= index trong tcp+sort\n",
        "result_train = []\n",
        "result_test = []\n",
        "for value in tcp_train:\n",
        "  index = tcp_sort.index(value)\n",
        "  result_train.append(index)\n",
        "\n",
        "for value in tcp_test:\n",
        "  index = tcp_sort.index(value)\n",
        "  result_test.append(index)\n",
        "\n",
        "result_train = np.array(result_train)\n",
        "result_test = np.array(result_test)"
      ],
      "execution_count": 76,
      "outputs": []
    },
    {
      "cell_type": "code",
      "metadata": {
        "colab": {
          "base_uri": "https://localhost:8080/"
        },
        "id": "NDFY1DI1cUF9",
        "outputId": "c0c0c0a8-24bd-4cb1-bd0c-020bba8a641f"
      },
      "source": [
        "np.max(result_test)"
      ],
      "execution_count": 85,
      "outputs": [
        {
          "output_type": "execute_result",
          "data": {
            "text/plain": [
              "432956"
            ]
          },
          "metadata": {
            "tags": []
          },
          "execution_count": 85
        }
      ]
    },
    {
      "cell_type": "code",
      "metadata": {
        "id": "gGsKdbk9bnRf"
      },
      "source": [
        "X_train[:, 2] = result_train\n",
        "X_test[:, 2] = result_test"
      ],
      "execution_count": 86,
      "outputs": []
    },
    {
      "cell_type": "code",
      "metadata": {
        "id": "rypTP-SR_2Ks"
      },
      "source": [
        "def RNN():\n",
        "    inputs = Input(name='inputs',shape=[max_len])\n",
        "    layer = Embedding(max_words,50,input_length=max_len)(inputs)\n",
        "    layer = LSTM(64)(layer)\n",
        "    # layer = Merge([max_len, context_model], mode=\"dot\", dot_axes=0)(layer)\n",
        "    layer = Dense(256,name='FC1')(layer)\n",
        "    layer = Activation('relu')(layer)\n",
        "    layer = Dropout(0.5)(layer)\n",
        "    layer = Dense(1,name='out_layer')(layer)\n",
        "    layer = Activation('sigmoid')(layer)\n",
        "    model = Model(inputs=inputs,outputs=layer)\n",
        "    return model"
      ],
      "execution_count": 87,
      "outputs": []
    },
    {
      "cell_type": "code",
      "metadata": {
        "colab": {
          "base_uri": "https://localhost:8080/"
        },
        "id": "2bY6ht-eAZAA",
        "outputId": "23dd40ab-93fc-4a50-f91a-b068a55ad163"
      },
      "source": [
        "model = RNN()\n",
        "model.summary()\n",
        "model.compile(loss='binary_crossentropy',optimizer=RMSprop(),metrics=['accuracy'])"
      ],
      "execution_count": 88,
      "outputs": [
        {
          "output_type": "stream",
          "text": [
            "Model: \"model_4\"\n",
            "_________________________________________________________________\n",
            "Layer (type)                 Output Shape              Param #   \n",
            "=================================================================\n",
            "inputs (InputLayer)          [(None, 5)]               0         \n",
            "_________________________________________________________________\n",
            "embedding_4 (Embedding)      (None, 5, 50)             21647850  \n",
            "_________________________________________________________________\n",
            "lstm_4 (LSTM)                (None, 64)                29440     \n",
            "_________________________________________________________________\n",
            "FC1 (Dense)                  (None, 256)               16640     \n",
            "_________________________________________________________________\n",
            "activation_8 (Activation)    (None, 256)               0         \n",
            "_________________________________________________________________\n",
            "dropout_4 (Dropout)          (None, 256)               0         \n",
            "_________________________________________________________________\n",
            "out_layer (Dense)            (None, 1)                 257       \n",
            "_________________________________________________________________\n",
            "activation_9 (Activation)    (None, 1)                 0         \n",
            "=================================================================\n",
            "Total params: 21,694,187\n",
            "Trainable params: 21,694,187\n",
            "Non-trainable params: 0\n",
            "_________________________________________________________________\n"
          ],
          "name": "stdout"
        }
      ]
    },
    {
      "cell_type": "code",
      "metadata": {
        "id": "xOz-mRpXAhbv",
        "colab": {
          "base_uri": "https://localhost:8080/"
        },
        "outputId": "7b51b08f-7006-45d4-aae0-3834dc1d7868"
      },
      "source": [
        "start = time.time()\n",
        "model.fit(sequences_matrix,Y_train,batch_size=2048,epochs=10,\n",
        "          validation_split=0.2)\n",
        "end = time.time()"
      ],
      "execution_count": 89,
      "outputs": [
        {
          "output_type": "stream",
          "text": [
            "Epoch 1/10\n",
            "219/219 [==============================] - 21s 88ms/step - loss: 0.0489 - accuracy: 0.9864 - val_loss: 9.4790e-04 - val_accuracy: 0.9998\n",
            "Epoch 2/10\n",
            "219/219 [==============================] - 19s 85ms/step - loss: 5.2100e-04 - accuracy: 0.9999 - val_loss: 5.8390e-04 - val_accuracy: 0.9999\n",
            "Epoch 3/10\n",
            "219/219 [==============================] - 19s 85ms/step - loss: 3.7057e-04 - accuracy: 0.9999 - val_loss: 7.6633e-04 - val_accuracy: 0.9999\n",
            "Epoch 4/10\n",
            "219/219 [==============================] - 19s 85ms/step - loss: 2.8220e-04 - accuracy: 1.0000 - val_loss: 5.4999e-04 - val_accuracy: 0.9999\n",
            "Epoch 5/10\n",
            "219/219 [==============================] - 19s 85ms/step - loss: 2.4651e-04 - accuracy: 1.0000 - val_loss: 4.8996e-04 - val_accuracy: 0.9999\n",
            "Epoch 6/10\n",
            "219/219 [==============================] - 19s 85ms/step - loss: 1.7959e-04 - accuracy: 1.0000 - val_loss: 7.7513e-04 - val_accuracy: 0.9999\n",
            "Epoch 7/10\n",
            "219/219 [==============================] - 19s 85ms/step - loss: 1.4402e-04 - accuracy: 1.0000 - val_loss: 8.6097e-04 - val_accuracy: 0.9999\n",
            "Epoch 8/10\n",
            "219/219 [==============================] - 19s 85ms/step - loss: 1.2310e-04 - accuracy: 1.0000 - val_loss: 6.4321e-04 - val_accuracy: 0.9999\n",
            "Epoch 9/10\n",
            "219/219 [==============================] - 19s 85ms/step - loss: 6.2683e-05 - accuracy: 1.0000 - val_loss: 7.3527e-04 - val_accuracy: 0.9998\n",
            "Epoch 10/10\n",
            "219/219 [==============================] - 19s 85ms/step - loss: 5.5051e-05 - accuracy: 1.0000 - val_loss: 6.7666e-04 - val_accuracy: 0.9999\n"
          ],
          "name": "stdout"
        }
      ]
    },
    {
      "cell_type": "code",
      "metadata": {
        "colab": {
          "base_uri": "https://localhost:8080/"
        },
        "id": "G54bsuVV7OgH",
        "outputId": "f0e4e31a-123c-4dfd-9e37-c221d89bb7a8"
      },
      "source": [
        "exe_time = end - start\n",
        "print(exe_time)"
      ],
      "execution_count": 90,
      "outputs": [
        {
          "output_type": "stream",
          "text": [
            "188.22588920593262\n"
          ],
          "name": "stdout"
        }
      ]
    },
    {
      "cell_type": "code",
      "metadata": {
        "colab": {
          "base_uri": "https://localhost:8080/"
        },
        "id": "EnQSBFEJA85G",
        "outputId": "896deaeb-7c5c-4db1-b63c-6585536c80dd"
      },
      "source": [
        "start = time.time()\n",
        "model.evaluate(X_test, Y_test)\n",
        "end = time.time()\n",
        "exe_time = end - start\n",
        "print(exe_time)"
      ],
      "execution_count": 91,
      "outputs": [
        {
          "output_type": "stream",
          "text": [
            "4375/4375 [==============================] - 10s 2ms/step - loss: 9.6711e-04 - accuracy: 0.9999\n",
            "10.468656301498413\n"
          ],
          "name": "stdout"
        }
      ]
    },
    {
      "cell_type": "code",
      "metadata": {
        "colab": {
          "base_uri": "https://localhost:8080/"
        },
        "id": "DdYIHa9sEHe9",
        "outputId": "4c612cbf-c515-41f9-99b6-00f25eccf62e"
      },
      "source": [
        "model.predict(np.array([X_test[4]]))"
      ],
      "execution_count": 94,
      "outputs": [
        {
          "output_type": "execute_result",
          "data": {
            "text/plain": [
              "array([[1.]], dtype=float32)"
            ]
          },
          "metadata": {
            "tags": []
          },
          "execution_count": 94
        }
      ]
    },
    {
      "cell_type": "code",
      "metadata": {
        "colab": {
          "base_uri": "https://localhost:8080/"
        },
        "id": "OyvRRx0AEL2D",
        "outputId": "85064d67-3a08-4bf2-c619-588e40a91410"
      },
      "source": [
        "Y_test[4]"
      ],
      "execution_count": 95,
      "outputs": [
        {
          "output_type": "execute_result",
          "data": {
            "text/plain": [
              "1.0"
            ]
          },
          "metadata": {
            "tags": []
          },
          "execution_count": 95
        }
      ]
    }
  ]
}