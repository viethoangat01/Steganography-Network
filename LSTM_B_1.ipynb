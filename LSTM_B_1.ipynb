{
  "nbformat": 4,
  "nbformat_minor": 0,
  "metadata": {
    "colab": {
      "name": "LSTM_B_1.ipynb",
      "provenance": [],
      "collapsed_sections": []
    },
    "kernelspec": {
      "name": "python3",
      "display_name": "Python 3"
    },
    "language_info": {
      "name": "python"
    },
    "accelerator": "GPU"
  },
  "cells": [
    {
      "cell_type": "code",
      "metadata": {
        "id": "fzpAH0Xjr39n"
      },
      "source": [
        "import pandas as pd\n",
        "import numpy as np\n",
        "import matplotlib.pyplot as plt\n",
        "import seaborn as sns\n",
        "import time\n",
        "import tensorflow as tf\n",
        "from sklearn.model_selection import train_test_split\n",
        "from sklearn.preprocessing import LabelEncoder\n",
        "from tensorflow.keras.models import Model\n",
        "from tensorflow.keras.layers import LSTM, Activation, Dense, Dropout, Input, Embedding\n",
        "from tensorflow.keras.optimizers import RMSprop\n",
        "from tensorflow.keras.preprocessing.text import Tokenizer\n",
        "from tensorflow.keras.preprocessing import sequence\n",
        "from tensorflow.keras.utils import to_categorical\n",
        "from tensorflow.keras.callbacks import EarlyStopping\n",
        "from time import sleep\n",
        "\n",
        "%matplotlib inline"
      ],
      "execution_count": 1,
      "outputs": []
    },
    {
      "cell_type": "code",
      "metadata": {
        "id": "MjunxNwgsMuY"
      },
      "source": [
        "#Import the dataset\n",
        "data_test=pd.read_csv('/content/drive/MyDrive/N12-Kĩ thuật giấu tin/CSV/4 patterns/4m9 records/.TEST_4_PATTERN_983.201.csv')\n",
        "Y_test=data_test.iloc[:14000,0].values\n"
      ],
      "execution_count": 16,
      "outputs": []
    },
    {
      "cell_type": "code",
      "metadata": {
        "id": "mjzpDmnMAoLf"
      },
      "source": [
        "X_test = np.load('/content/drive/MyDrive/Kỹ thuật giấu tin/Bản sao của test.npy')"
      ],
      "execution_count": 12,
      "outputs": []
    },
    {
      "cell_type": "code",
      "metadata": {
        "colab": {
          "base_uri": "https://localhost:8080/"
        },
        "id": "KsMJpon1_aIu",
        "outputId": "af83373f-03e4-4af5-f398-315dadfd23ff"
      },
      "source": [
        "X_test.shape\n",
        "Y_test.shape"
      ],
      "execution_count": 18,
      "outputs": [
        {
          "output_type": "execute_result",
          "data": {
            "text/plain": [
              "(983201, 8)"
            ]
          },
          "metadata": {
            "tags": []
          },
          "execution_count": 18
        }
      ]
    },
    {
      "cell_type": "code",
      "metadata": {
        "id": "xBFvwpNFgPaN"
      },
      "source": [
        "from google.colab import drive\n",
        "drive.mount('/content/drive')"
      ],
      "execution_count": null,
      "outputs": []
    },
    {
      "cell_type": "code",
      "metadata": {
        "id": "8QQKrOYjg-Y7"
      },
      "source": [
        "from keras.models import load_model\n",
        "\n",
        "# model.save('my_model.h5')  # creates a HDF5 file 'my_model.h5'\n",
        "# del model  # deletes the existing model\n",
        "\n",
        "# returns a compiled model\n",
        "# identical to the previous one\n",
        "model = load_model('/content/drive/MyDrive/Kỹ thuật giấu tin/model.h5')\n"
      ],
      "execution_count": 6,
      "outputs": []
    },
    {
      "cell_type": "code",
      "metadata": {
        "colab": {
          "base_uri": "https://localhost:8080/"
        },
        "id": "EnQSBFEJA85G",
        "outputId": "2a469d09-db1b-4c63-c841-cd6dd4b2f8d4"
      },
      "source": [
        "start = time.time()\n",
        "model.evaluate(X_test, Y_test)\n",
        "end = time.time()\n",
        "exe_time = end - start\n",
        "print(exe_time)"
      ],
      "execution_count": 19,
      "outputs": [
        {
          "output_type": "stream",
          "text": [
            "30726/30726 [==============================] - 123s 3ms/step - loss: 2.2581e-06 - accuracy: 1.0000\n",
            "157.90694212913513\n"
          ],
          "name": "stdout"
        }
      ]
    },
    {
      "cell_type": "code",
      "metadata": {
        "id": "DdYIHa9sEHe9"
      },
      "source": [
        "Y_predict=np.array(model.predict(np.array(X_test)))"
      ],
      "execution_count": 20,
      "outputs": []
    },
    {
      "cell_type": "code",
      "metadata": {
        "colab": {
          "base_uri": "https://localhost:8080/"
        },
        "id": "OyvRRx0AEL2D",
        "outputId": "837a3345-fccd-412a-8963-ee259aa3b9c1"
      },
      "source": [
        "# # Making the Confusion Matrix\n",
        "from sklearn.metrics import confusion_matrix\n",
        "cm = confusion_matrix(Y_test, np.round(Y_predict))\n",
        "print(cm)\n",
        "rs=cm[0,0]+cm[1,1]\n",
        "all=cm[0,0]+cm[0,1]+cm[1,0]+cm[1,1]\n",
        "print(rs/all*100)\n",
        "#TN FP\n",
        "#FN TP"
      ],
      "execution_count": 21,
      "outputs": [
        {
          "output_type": "stream",
          "text": [
            "[[440051      1]\n",
            " [     0 543149]]\n",
            "99.99989829139719\n"
          ],
          "name": "stdout"
        }
      ]
    },
    {
      "cell_type": "code",
      "metadata": {
        "colab": {
          "base_uri": "https://localhost:8080/"
        },
        "id": "Xe9NTeL5uxsu",
        "outputId": "8b26dd22-abb9-48da-cfb4-1ef519d91134"
      },
      "source": [
        "# confusion matrix to precision + recall\n",
        "def cm2pr_binary(cm):\n",
        "    p = cm[0,0]/np.sum(cm[:,0])\n",
        "    r = cm[0,0]/np.sum(cm[0])\n",
        "    return (p, r)\n",
        "p,r = cm2pr_binary(cm)\n",
        "print(\"precision = {0:.2f}, recall = {1:.2f}\".format(p, r))\n",
        "f1=2*(p*r)/(p+r)\n",
        "print(f1)"
      ],
      "execution_count": 22,
      "outputs": [
        {
          "output_type": "stream",
          "text": [
            "precision = 1.00, recall = 1.00\n",
            "0.9999988637693543\n"
          ],
          "name": "stdout"
        }
      ]
    }
  ]
}