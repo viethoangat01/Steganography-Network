{
  "nbformat": 4,
  "nbformat_minor": 0,
  "metadata": {
    "colab": {
      "name": "MLP.ipynb",
      "provenance": [],
      "collapsed_sections": []
    },
    "kernelspec": {
      "name": "python3",
      "display_name": "Python 3"
    },
    "language_info": {
      "name": "python"
    }
  },
  "cells": [
    {
      "cell_type": "code",
      "metadata": {
        "id": "C1azGIQnT_Vr"
      },
      "source": [
        "import pandas as pd\n",
        "import numpy as np\n",
        "import matplotlib.pyplot as plt\n",
        "import seaborn as sns\n",
        "import time\n",
        "import tensorflow as tf\n",
        "import sklearn\n",
        "from sklearn.neural_network import MLPClassifier\n",
        "from time import sleep\n",
        "from pandas import Series\n",
        "from sklearn.preprocessing import StandardScaler"
      ],
      "execution_count": 20,
      "outputs": []
    },
    {
      "cell_type": "code",
      "metadata": {
        "colab": {
          "base_uri": "https://localhost:8080/"
        },
        "id": "2eLPwWwqUjHF",
        "outputId": "b618040c-eb39-4ab3-8c4b-139486007d3f"
      },
      "source": [
        "#Import the dataset\n",
        "from sklearn import preprocessing\n",
        "from sklearn.model_selection import train_test_split\n",
        "data_train=pd.read_csv('/content/drive/MyDrive/N12-Kĩ thuật giấu tin/CSV/4 patterns/4m9 records/.TRAIN_4_PATTERN_3.932.803.csv')\n",
        "data_test=pd.read_csv('/content/drive/MyDrive/N12-Kĩ thuật giấu tin/CSV/4 patterns/4m9 records/.TEST_4_PATTERN_983.201.csv')\n",
        "\n",
        "\n",
        "X_train=data_train.iloc[:3932803,[1,2,3,4,5,6,7,8]].values\n",
        "Y_train=data_train.iloc[:3932803,0].values\n",
        "\n",
        "X_test=data_test.iloc[:983201,[1,2,3,4,5,6,7,8]].values\n",
        "Y_test=data_test.iloc[:983201,0].values\n",
        "\n",
        "X_train=X_train.reshape(len(X_train),8)\n",
        "X_test=X_test.reshape(len(X_test),8)\n",
        "# train the normalization\n",
        "scaler = StandardScaler()\n",
        "scaler = scaler.fit(X_train)\n",
        "# normalize the dataset and print\n",
        "standardized = scaler.transform(X_train)\n",
        "X_train=standardized\n",
        "####################\n",
        "scaler = scaler.fit(X_test)\n",
        "# normalize the dataset and print\n",
        "standardized = scaler.transform(X_test)\n",
        "X_test=standardized\n",
        "print(X_train)\n",
        "print(X_test)"
      ],
      "execution_count": 21,
      "outputs": [
        {
          "output_type": "stream",
          "text": [
            "[[-0.31986625  1.39156376  1.09594067 ... -0.04948504 -0.15084331\n",
            "  -0.32479903]\n",
            " [ 2.00638353  1.25254018 -1.1286765  ... -0.04948504 -0.15084331\n",
            "  -0.32479903]\n",
            " [ 2.00638353  1.14134339 -1.1286765  ... -0.04948504 -0.15084331\n",
            "  -0.32479903]\n",
            " ...\n",
            " [-0.31986625 -0.33789408  0.74495484 ... -0.04948504 -0.15084331\n",
            "  -0.32479903]\n",
            " [-0.31986625  1.24282288  1.99392887 ... -0.04948504 -0.15084331\n",
            "  -0.32479903]\n",
            " [-0.31986625  1.76297428 -0.51813782 ... -0.04948504 -0.15084331\n",
            "  -0.32479903]]\n",
            "[[ 2.00653879  1.89395284 -1.12792346 ... -0.04959077 -0.15027189\n",
            "  -0.32577539]\n",
            " [-0.31909229 -0.15223072  0.03253223 ... -0.04959077 -0.15027189\n",
            "  -0.32577539]\n",
            " [-0.31909229  0.63910672  0.25538819 ... -0.04959077 -0.15027189\n",
            "  -0.32577539]\n",
            " ...\n",
            " [-0.31909229  1.48696826  0.25538819 ... -0.04959077 -0.15027189\n",
            "  -0.32577539]\n",
            " [-0.31909229  0.243438    0.36717095 ... -0.04959077 -0.15027189\n",
            "  -0.32577539]\n",
            " [-0.31909229 -0.22481783  0.87291431 ... -0.04959077 -0.15027189\n",
            "  -0.32577539]]\n"
          ],
          "name": "stdout"
        }
      ]
    },
    {
      "cell_type": "code",
      "metadata": {
        "colab": {
          "base_uri": "https://localhost:8080/"
        },
        "id": "W0qhjmhSIIwX",
        "outputId": "a426da00-58c6-4cb5-951b-81fd29a1b960"
      },
      "source": [
        "from google.colab import drive\n",
        "drive.mount('/content/drive')"
      ],
      "execution_count": 2,
      "outputs": [
        {
          "output_type": "stream",
          "text": [
            "Drive already mounted at /content/drive; to attempt to forcibly remount, call drive.mount(\"/content/drive\", force_remount=True).\n"
          ],
          "name": "stdout"
        }
      ]
    },
    {
      "cell_type": "code",
      "metadata": {
        "colab": {
          "base_uri": "https://localhost:8080/",
          "height": 196
        },
        "id": "eYUkyFiJUsjB",
        "outputId": "7b1a1cf3-06bd-40c6-a871-f7667c452716"
      },
      "source": [
        "X_train, Y_train, X_test, Y_test = list(map(lambda x: np.array(x, dtype=np.float64), [X_train, Y_train, X_test, Y_test]))\n",
        "data_train.head()"
      ],
      "execution_count": 22,
      "outputs": [
        {
          "output_type": "execute_result",
          "data": {
            "text/html": [
              "<div>\n",
              "<style scoped>\n",
              "    .dataframe tbody tr th:only-of-type {\n",
              "        vertical-align: middle;\n",
              "    }\n",
              "\n",
              "    .dataframe tbody tr th {\n",
              "        vertical-align: top;\n",
              "    }\n",
              "\n",
              "    .dataframe thead th {\n",
              "        text-align: right;\n",
              "    }\n",
              "</style>\n",
              "<table border=\"1\" class=\"dataframe\">\n",
              "  <thead>\n",
              "    <tr style=\"text-align: right;\">\n",
              "      <th></th>\n",
              "      <th>LABEL</th>\n",
              "      <th>ip.proto</th>\n",
              "      <th>ip.id</th>\n",
              "      <th>tcp.seq_raw</th>\n",
              "      <th>frame.len</th>\n",
              "      <th>frame.cap_len</th>\n",
              "      <th>dns.qry.name</th>\n",
              "      <th>tcp.segment_data</th>\n",
              "      <th>data</th>\n",
              "    </tr>\n",
              "  </thead>\n",
              "  <tbody>\n",
              "    <tr>\n",
              "      <th>0</th>\n",
              "      <td>0</td>\n",
              "      <td>6</td>\n",
              "      <td>56412</td>\n",
              "      <td>2.670691e+09</td>\n",
              "      <td>54</td>\n",
              "      <td>54</td>\n",
              "      <td>0</td>\n",
              "      <td>0</td>\n",
              "      <td>0</td>\n",
              "    </tr>\n",
              "    <tr>\n",
              "      <th>1</th>\n",
              "      <td>0</td>\n",
              "      <td>17</td>\n",
              "      <td>53894</td>\n",
              "      <td>0.000000e+00</td>\n",
              "      <td>76</td>\n",
              "      <td>42</td>\n",
              "      <td>0</td>\n",
              "      <td>0</td>\n",
              "      <td>0</td>\n",
              "    </tr>\n",
              "    <tr>\n",
              "      <th>2</th>\n",
              "      <td>0</td>\n",
              "      <td>17</td>\n",
              "      <td>51880</td>\n",
              "      <td>0.000000e+00</td>\n",
              "      <td>309</td>\n",
              "      <td>42</td>\n",
              "      <td>0</td>\n",
              "      <td>0</td>\n",
              "      <td>0</td>\n",
              "    </tr>\n",
              "    <tr>\n",
              "      <th>3</th>\n",
              "      <td>0</td>\n",
              "      <td>6</td>\n",
              "      <td>57326</td>\n",
              "      <td>1.992509e+09</td>\n",
              "      <td>110</td>\n",
              "      <td>54</td>\n",
              "      <td>0</td>\n",
              "      <td>0</td>\n",
              "      <td>0</td>\n",
              "    </tr>\n",
              "    <tr>\n",
              "      <th>4</th>\n",
              "      <td>1</td>\n",
              "      <td>6</td>\n",
              "      <td>46592</td>\n",
              "      <td>1.761608e+09</td>\n",
              "      <td>56</td>\n",
              "      <td>56</td>\n",
              "      <td>0</td>\n",
              "      <td>0</td>\n",
              "      <td>0</td>\n",
              "    </tr>\n",
              "  </tbody>\n",
              "</table>\n",
              "</div>"
            ],
            "text/plain": [
              "   LABEL  ip.proto  ip.id  ...  dns.qry.name  tcp.segment_data  data\n",
              "0      0         6  56412  ...             0                 0     0\n",
              "1      0        17  53894  ...             0                 0     0\n",
              "2      0        17  51880  ...             0                 0     0\n",
              "3      0         6  57326  ...             0                 0     0\n",
              "4      1         6  46592  ...             0                 0     0\n",
              "\n",
              "[5 rows x 9 columns]"
            ]
          },
          "metadata": {
            "tags": []
          },
          "execution_count": 22
        }
      ]
    },
    {
      "cell_type": "code",
      "metadata": {
        "colab": {
          "base_uri": "https://localhost:8080/"
        },
        "id": "zJiOSAEeacnf",
        "outputId": "b9f74451-ddd2-4f1c-fd4e-ae88d72623f3"
      },
      "source": [
        "from tensorflow.keras.models import Sequential\n",
        "from tensorflow.keras.layers import Dense, BatchNormalization\n",
        "model = Sequential()\n",
        "\n",
        "model.add(Dense(32, input_dim=8, activation='relu'))\n",
        "model.add(BatchNormalization())\n",
        "model.add(Dense(16, input_dim=8, activation='relu'))\n",
        "model.add(BatchNormalization())\n",
        "model.add(Dense(16, input_dim=8, activation='relu'))\n",
        "model.add(BatchNormalization())\n",
        "model.add(Dense(8, activation='relu'))\n",
        "model.add(BatchNormalization())\n",
        "# model.add(Dense(8, activation='relu'))\n",
        "model.add(Dense(1, activation='sigmoid'))\n",
        "model.compile(loss='binary_crossentropy', optimizer='adam', metrics=['accuracy'])\n",
        "start = time.time()\n",
        "model.fit(X_train, Y_train, epochs=20, batch_size=2048)\n",
        "end = time.time()"
      ],
      "execution_count": 23,
      "outputs": [
        {
          "output_type": "stream",
          "text": [
            "Epoch 1/20\n",
            "1921/1921 [==============================] - 13s 6ms/step - loss: 0.1068 - accuracy: 0.9620\n",
            "Epoch 2/20\n",
            "1921/1921 [==============================] - 11s 6ms/step - loss: 0.0755 - accuracy: 0.9760\n",
            "Epoch 3/20\n",
            "1921/1921 [==============================] - 11s 6ms/step - loss: 0.0646 - accuracy: 0.9812\n",
            "Epoch 4/20\n",
            "1921/1921 [==============================] - 12s 6ms/step - loss: 0.0583 - accuracy: 0.9831\n",
            "Epoch 5/20\n",
            "1921/1921 [==============================] - 11s 6ms/step - loss: 0.0560 - accuracy: 0.9838\n",
            "Epoch 6/20\n",
            "1921/1921 [==============================] - 11s 6ms/step - loss: 0.0547 - accuracy: 0.9843\n",
            "Epoch 7/20\n",
            "1921/1921 [==============================] - 11s 6ms/step - loss: 0.0540 - accuracy: 0.9845\n",
            "Epoch 8/20\n",
            "1921/1921 [==============================] - 11s 6ms/step - loss: 0.0532 - accuracy: 0.9849\n",
            "Epoch 9/20\n",
            "1921/1921 [==============================] - 11s 6ms/step - loss: 0.0523 - accuracy: 0.9852\n",
            "Epoch 10/20\n",
            "1921/1921 [==============================] - 11s 6ms/step - loss: 0.0518 - accuracy: 0.9853\n",
            "Epoch 11/20\n",
            "1921/1921 [==============================] - 12s 6ms/step - loss: 0.0513 - accuracy: 0.9855\n",
            "Epoch 12/20\n",
            "1921/1921 [==============================] - 11s 6ms/step - loss: 0.0511 - accuracy: 0.9856\n",
            "Epoch 13/20\n",
            "1921/1921 [==============================] - 11s 6ms/step - loss: 0.0508 - accuracy: 0.9857\n",
            "Epoch 14/20\n",
            "1921/1921 [==============================] - 11s 6ms/step - loss: 0.0504 - accuracy: 0.9858\n",
            "Epoch 15/20\n",
            "1921/1921 [==============================] - 12s 6ms/step - loss: 0.0503 - accuracy: 0.9858\n",
            "Epoch 16/20\n",
            "1921/1921 [==============================] - 11s 6ms/step - loss: 0.0501 - accuracy: 0.9858\n",
            "Epoch 17/20\n",
            "1921/1921 [==============================] - 11s 6ms/step - loss: 0.0498 - accuracy: 0.9859\n",
            "Epoch 18/20\n",
            "1921/1921 [==============================] - 11s 6ms/step - loss: 0.0497 - accuracy: 0.9859\n",
            "Epoch 19/20\n",
            "1921/1921 [==============================] - 11s 6ms/step - loss: 0.0493 - accuracy: 0.9861\n",
            "Epoch 20/20\n",
            "1921/1921 [==============================] - 11s 6ms/step - loss: 0.0490 - accuracy: 0.9862\n"
          ],
          "name": "stdout"
        }
      ]
    },
    {
      "cell_type": "code",
      "metadata": {
        "colab": {
          "base_uri": "https://localhost:8080/"
        },
        "id": "aKGY8k2Ne-Jk",
        "outputId": "fdabdc52-e203-4d69-fe6f-604441e7019c"
      },
      "source": [
        "#Train time\n",
        "exe_time = end - start\n",
        "print(exe_time)"
      ],
      "execution_count": 24,
      "outputs": [
        {
          "output_type": "stream",
          "text": [
            "263.2847979068756\n"
          ],
          "name": "stdout"
        }
      ]
    },
    {
      "cell_type": "code",
      "metadata": {
        "colab": {
          "base_uri": "https://localhost:8080/"
        },
        "id": "zC2pCYr-bLpW",
        "outputId": "5604fff8-c5ca-4166-d165-89bb846bc9c0"
      },
      "source": [
        "#Predict time\n",
        "start = time.time()\n",
        "model.evaluate(X_test, Y_test)\n",
        "end = time.time()\n",
        "exe_time = end - start\n",
        "print(exe_time)"
      ],
      "execution_count": 25,
      "outputs": [
        {
          "output_type": "stream",
          "text": [
            "30726/30726 [==============================] - 37s 1ms/step - loss: 0.0533 - accuracy: 0.9850\n",
            "37.06228733062744\n"
          ],
          "name": "stdout"
        }
      ]
    },
    {
      "cell_type": "code",
      "metadata": {
        "id": "JPectzFzfWoN"
      },
      "source": [
        "Y_predict=np.array(model.predict(np.array(X_test)))"
      ],
      "execution_count": 26,
      "outputs": []
    },
    {
      "cell_type": "code",
      "metadata": {
        "colab": {
          "base_uri": "https://localhost:8080/"
        },
        "id": "0M3tNUTufXyB",
        "outputId": "79d700ce-850f-4a87-ec06-e4d998f58361"
      },
      "source": [
        "# # Making the Confusion Matrix\n",
        "from sklearn.metrics import confusion_matrix\n",
        "cm = confusion_matrix(Y_test, np.round(Y_predict))\n",
        "print(cm)\n",
        "rs=cm[0,0]+cm[1,1]\n",
        "all=cm[0,0]+cm[0,1]+cm[1,0]+cm[1,1]\n",
        "print(rs/all*100)\n",
        "#TN FP\n",
        "#FN TP\n"
      ],
      "execution_count": 27,
      "outputs": [
        {
          "output_type": "stream",
          "text": [
            "[[426336  13716]\n",
            " [  1062 542087]]\n",
            "98.49695026754448\n"
          ],
          "name": "stdout"
        }
      ]
    },
    {
      "cell_type": "code",
      "metadata": {
        "colab": {
          "base_uri": "https://localhost:8080/"
        },
        "id": "koR6KCGdBTSw",
        "outputId": "ef4afd38-68e1-46b3-fea8-7988391bfbb4"
      },
      "source": [
        "# confusion matrix to precision + recall\n",
        "def cm2pr_binary(cm):\n",
        "    p = cm[0,0]/np.sum(cm[:,0])\n",
        "    r = cm[0,0]/np.sum(cm[0])\n",
        "    return (p, r)\n",
        "p,r = cm2pr_binary(cm)\n",
        "print(\"precision = {0:.2f}, recall = {1:.2f}\".format(p, r))\n",
        "f1=2*(p*r)/(p+r)\n",
        "print(f1)"
      ],
      "execution_count": 28,
      "outputs": [
        {
          "output_type": "stream",
          "text": [
            "precision = 1.00, recall = 0.97\n",
            "0.9829638595884488\n"
          ],
          "name": "stdout"
        }
      ]
    }
  ]
}