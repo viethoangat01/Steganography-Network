{
  "nbformat": 4,
  "nbformat_minor": 0,
  "metadata": {
    "colab": {
      "name": "MLP.ipynb",
      "provenance": [],
      "collapsed_sections": [],
      "toc_visible": true
    },
    "kernelspec": {
      "name": "python3",
      "display_name": "Python 3"
    },
    "language_info": {
      "name": "python"
    }
  },
  "cells": [
    {
      "cell_type": "code",
      "metadata": {
        "id": "C1azGIQnT_Vr"
      },
      "source": [
        "import pandas as pd\n",
        "import numpy as np\n",
        "import matplotlib.pyplot as plt\n",
        "import seaborn as sns\n",
        "import time\n",
        "import tensorflow as tf\n",
        "import sklearn\n",
        "from sklearn.neural_network import MLPClassifier\n",
        "from time import sleep"
      ],
      "execution_count": 47,
      "outputs": []
    },
    {
      "cell_type": "code",
      "metadata": {
        "colab": {
          "base_uri": "https://localhost:8080/"
        },
        "id": "2eLPwWwqUjHF",
        "outputId": "9cf8bac6-1d4a-41b1-a30f-e3011a196dd2"
      },
      "source": [
        "#Import the dataset\n",
        "from sklearn import preprocessing\n",
        "from sklearn.model_selection import train_test_split\n",
        "data_train=pd.read_csv('/content/drive/MyDrive/N12-Kĩ thuật giấu tin/CSV/2 patterns (P1-P5)/LẦN 1/Train_56.000.csv')\n",
        "data_test=pd.read_csv('/content/drive/MyDrive/N12-Kĩ thuật giấu tin/CSV/2 patterns (P1-P5)/LẦN 1/Test_14.000.csv')\n",
        "\n",
        "df = data_train.append(data_test) # 56000 + 14000\n",
        "df.reset_index(drop=True, inplace=True)\n",
        "\n",
        "Y = df.iloc[:, 0].values\n",
        "\n",
        "data = df.drop(columns=['LABEL'])\n",
        "\n",
        "\n",
        "normalized_df=(df-df.min())/(df.max()-df.min())\n",
        "\n",
        "X_train=df.iloc[:56000,[0,1,2,3,4]].values # :56000\n",
        "Y_train=Y[:56000]\n",
        "\n",
        "X_test=df.iloc[56000:,[1,2,3,4,5]].values # \n",
        "Y_test=Y[56000:]\n",
        "print(f\"{X_train.shape} {Y_train.shape} {X_test.shape} {Y_test.shape}\")"
      ],
      "execution_count": 48,
      "outputs": [
        {
          "output_type": "stream",
          "text": [
            "(56000, 5) (56000,) (14000, 5) (14000,)\n"
          ],
          "name": "stdout"
        }
      ]
    },
    {
      "cell_type": "code",
      "metadata": {
        "colab": {
          "base_uri": "https://localhost:8080/",
          "height": 196
        },
        "id": "eYUkyFiJUsjB",
        "outputId": "acda64e6-e45f-4346-e093-dd4ecc32bcb6"
      },
      "source": [
        "X_train, Y_train, X_test, Y_test = list(map(lambda x: np.array(x, dtype=np.float64), [X_train, Y_train, X_test, Y_test]))\n",
        "data_train.head()"
      ],
      "execution_count": 49,
      "outputs": [
        {
          "output_type": "execute_result",
          "data": {
            "text/html": [
              "<div>\n",
              "<style scoped>\n",
              "    .dataframe tbody tr th:only-of-type {\n",
              "        vertical-align: middle;\n",
              "    }\n",
              "\n",
              "    .dataframe tbody tr th {\n",
              "        vertical-align: top;\n",
              "    }\n",
              "\n",
              "    .dataframe thead th {\n",
              "        text-align: right;\n",
              "    }\n",
              "</style>\n",
              "<table border=\"1\" class=\"dataframe\">\n",
              "  <thead>\n",
              "    <tr style=\"text-align: right;\">\n",
              "      <th></th>\n",
              "      <th>LABEL</th>\n",
              "      <th>ip.proto</th>\n",
              "      <th>ip.id</th>\n",
              "      <th>tcp.seq_raw</th>\n",
              "      <th>frame.len</th>\n",
              "      <th>frame.cap_len</th>\n",
              "    </tr>\n",
              "  </thead>\n",
              "  <tbody>\n",
              "    <tr>\n",
              "      <th>0</th>\n",
              "      <td>0</td>\n",
              "      <td>6</td>\n",
              "      <td>47010</td>\n",
              "      <td>698643808</td>\n",
              "      <td>1420</td>\n",
              "      <td>66</td>\n",
              "    </tr>\n",
              "    <tr>\n",
              "      <th>1</th>\n",
              "      <td>1</td>\n",
              "      <td>6</td>\n",
              "      <td>24320</td>\n",
              "      <td>1862270976</td>\n",
              "      <td>56</td>\n",
              "      <td>56</td>\n",
              "    </tr>\n",
              "    <tr>\n",
              "      <th>2</th>\n",
              "      <td>1</td>\n",
              "      <td>6</td>\n",
              "      <td>52834</td>\n",
              "      <td>1159528989</td>\n",
              "      <td>166</td>\n",
              "      <td>166</td>\n",
              "    </tr>\n",
              "    <tr>\n",
              "      <th>3</th>\n",
              "      <td>1</td>\n",
              "      <td>6</td>\n",
              "      <td>45038</td>\n",
              "      <td>1854525181</td>\n",
              "      <td>126</td>\n",
              "      <td>126</td>\n",
              "    </tr>\n",
              "    <tr>\n",
              "      <th>4</th>\n",
              "      <td>0</td>\n",
              "      <td>6</td>\n",
              "      <td>4160</td>\n",
              "      <td>1177938840</td>\n",
              "      <td>54</td>\n",
              "      <td>54</td>\n",
              "    </tr>\n",
              "  </tbody>\n",
              "</table>\n",
              "</div>"
            ],
            "text/plain": [
              "   LABEL  ip.proto  ip.id  tcp.seq_raw  frame.len  frame.cap_len\n",
              "0      0         6  47010    698643808       1420             66\n",
              "1      1         6  24320   1862270976         56             56\n",
              "2      1         6  52834   1159528989        166            166\n",
              "3      1         6  45038   1854525181        126            126\n",
              "4      0         6   4160   1177938840         54             54"
            ]
          },
          "metadata": {
            "tags": []
          },
          "execution_count": 49
        }
      ]
    },
    {
      "cell_type": "code",
      "metadata": {
        "colab": {
          "base_uri": "https://localhost:8080/"
        },
        "id": "zJiOSAEeacnf",
        "outputId": "cdac091e-23aa-4bc6-95a4-a879b296c534"
      },
      "source": [
        "from tensorflow.keras.models import Sequential\n",
        "from tensorflow.keras.layers import Dense, BatchNormalization\n",
        "model = Sequential()\n",
        "\n",
        "model.add(Dense(32, input_dim=5, activation='relu'))\n",
        "model.add(BatchNormalization())\n",
        "model.add(Dense(16, input_dim=5, activation='relu'))\n",
        "model.add(BatchNormalization())\n",
        "model.add(Dense(16, input_dim=5, activation='relu'))\n",
        "model.add(BatchNormalization())\n",
        "model.add(Dense(8, activation='relu'))\n",
        "model.add(BatchNormalization())\n",
        "# model.add(Dense(8, activation='relu'))\n",
        "model.add(Dense(1, activation='sigmoid'))\n",
        "model.compile(loss='binary_crossentropy', optimizer='adam', metrics=['accuracy'])\n",
        "start = time.time()\n",
        "model.fit(X_train, Y_train, epochs=30, batch_size=1024)\n",
        "end = time.time()"
      ],
      "execution_count": 50,
      "outputs": [
        {
          "output_type": "stream",
          "text": [
            "Epoch 1/30\n",
            "55/55 [==============================] - 1s 5ms/step - loss: 0.5391 - accuracy: 0.7562\n",
            "Epoch 2/30\n",
            "55/55 [==============================] - 0s 5ms/step - loss: 0.4934 - accuracy: 0.7881\n",
            "Epoch 3/30\n",
            "55/55 [==============================] - 0s 4ms/step - loss: 0.4778 - accuracy: 0.7948\n",
            "Epoch 4/30\n",
            "55/55 [==============================] - 0s 4ms/step - loss: 0.5202 - accuracy: 0.7782\n",
            "Epoch 5/30\n",
            "55/55 [==============================] - 0s 4ms/step - loss: 0.5058 - accuracy: 0.7705\n",
            "Epoch 6/30\n",
            "55/55 [==============================] - 0s 4ms/step - loss: 0.5199 - accuracy: 0.7635\n",
            "Epoch 7/30\n",
            "55/55 [==============================] - 0s 4ms/step - loss: 0.4951 - accuracy: 0.7751\n",
            "Epoch 8/30\n",
            "55/55 [==============================] - 0s 5ms/step - loss: 0.4853 - accuracy: 0.7856\n",
            "Epoch 9/30\n",
            "55/55 [==============================] - 0s 5ms/step - loss: 0.4798 - accuracy: 0.7931\n",
            "Epoch 10/30\n",
            "55/55 [==============================] - 0s 4ms/step - loss: 0.4776 - accuracy: 0.7928\n",
            "Epoch 11/30\n",
            "55/55 [==============================] - 0s 5ms/step - loss: 0.4761 - accuracy: 0.7947\n",
            "Epoch 12/30\n",
            "55/55 [==============================] - 0s 5ms/step - loss: 0.4734 - accuracy: 0.7948\n",
            "Epoch 13/30\n",
            "55/55 [==============================] - 0s 4ms/step - loss: 0.4735 - accuracy: 0.7961\n",
            "Epoch 14/30\n",
            "55/55 [==============================] - 0s 5ms/step - loss: 0.5350 - accuracy: 0.7481\n",
            "Epoch 15/30\n",
            "55/55 [==============================] - 0s 4ms/step - loss: 0.5231 - accuracy: 0.7673\n",
            "Epoch 16/30\n",
            "55/55 [==============================] - 0s 4ms/step - loss: 0.4883 - accuracy: 0.7892\n",
            "Epoch 17/30\n",
            "55/55 [==============================] - 0s 4ms/step - loss: 0.4769 - accuracy: 0.7955\n",
            "Epoch 18/30\n",
            "55/55 [==============================] - 0s 5ms/step - loss: 0.4736 - accuracy: 0.7967\n",
            "Epoch 19/30\n",
            "55/55 [==============================] - 0s 5ms/step - loss: 0.4719 - accuracy: 0.7962\n",
            "Epoch 20/30\n",
            "55/55 [==============================] - 0s 5ms/step - loss: 0.4698 - accuracy: 0.7977\n",
            "Epoch 21/30\n",
            "55/55 [==============================] - 0s 5ms/step - loss: 0.4708 - accuracy: 0.7970\n",
            "Epoch 22/30\n",
            "55/55 [==============================] - 0s 5ms/step - loss: 0.4698 - accuracy: 0.7967\n",
            "Epoch 23/30\n",
            "55/55 [==============================] - 0s 4ms/step - loss: 0.4726 - accuracy: 0.7965\n",
            "Epoch 24/30\n",
            "55/55 [==============================] - 0s 4ms/step - loss: 0.4712 - accuracy: 0.7953\n",
            "Epoch 25/30\n",
            "55/55 [==============================] - 0s 4ms/step - loss: 0.4679 - accuracy: 0.7975\n",
            "Epoch 26/30\n",
            "55/55 [==============================] - 0s 5ms/step - loss: 0.4682 - accuracy: 0.7968\n",
            "Epoch 27/30\n",
            "55/55 [==============================] - 0s 4ms/step - loss: 0.4682 - accuracy: 0.7971\n",
            "Epoch 28/30\n",
            "55/55 [==============================] - 0s 4ms/step - loss: 0.4683 - accuracy: 0.7972\n",
            "Epoch 29/30\n",
            "55/55 [==============================] - 0s 4ms/step - loss: 0.4794 - accuracy: 0.7878\n",
            "Epoch 30/30\n",
            "55/55 [==============================] - 0s 5ms/step - loss: 0.4731 - accuracy: 0.7960\n"
          ],
          "name": "stdout"
        }
      ]
    },
    {
      "cell_type": "code",
      "metadata": {
        "colab": {
          "base_uri": "https://localhost:8080/"
        },
        "id": "aKGY8k2Ne-Jk",
        "outputId": "6de5a7bc-4b8f-4e17-ee43-5a17e9d6d8ae"
      },
      "source": [
        "#Train time\n",
        "exe_time = end - start\n",
        "print(exe_time)"
      ],
      "execution_count": 51,
      "outputs": [
        {
          "output_type": "stream",
          "text": [
            "8.967771291732788\n"
          ],
          "name": "stdout"
        }
      ]
    },
    {
      "cell_type": "code",
      "metadata": {
        "colab": {
          "base_uri": "https://localhost:8080/"
        },
        "id": "zC2pCYr-bLpW",
        "outputId": "8c747102-a150-4e90-b721-9d64dcb3270c"
      },
      "source": [
        "#Predict time\n",
        "start = time.time()\n",
        "model.evaluate(X_test, Y_test)\n",
        "end = time.time()\n",
        "exe_time = end - start\n",
        "print(exe_time)"
      ],
      "execution_count": 52,
      "outputs": [
        {
          "output_type": "stream",
          "text": [
            "438/438 [==============================] - 1s 1ms/step - loss: 98528165888.0000 - accuracy: 0.5714\n",
            "0.8598949909210205\n"
          ],
          "name": "stdout"
        }
      ]
    },
    {
      "cell_type": "code",
      "metadata": {
        "id": "JPectzFzfWoN"
      },
      "source": [
        "Y_predict=np.array(model.predict(np.array(X_test)))"
      ],
      "execution_count": 53,
      "outputs": []
    },
    {
      "cell_type": "code",
      "metadata": {
        "colab": {
          "base_uri": "https://localhost:8080/"
        },
        "id": "0M3tNUTufXyB",
        "outputId": "003f793a-f857-4d27-b8fa-71f5d7165539"
      },
      "source": [
        "# # Making the Confusion Matrix\n",
        "from sklearn.metrics import confusion_matrix\n",
        "cm = confusion_matrix(Y_test, np.round(Y_predict))\n",
        "print(cm)\n",
        "rs=cm[0,0]+cm[1,1]\n",
        "all=cm[0,0]+cm[0,1]+cm[1,0]+cm[1,1]\n",
        "print(rs/all*100)\n"
      ],
      "execution_count": 55,
      "outputs": [
        {
          "output_type": "stream",
          "text": [
            "[[   0 6000]\n",
            " [   0 8000]]\n",
            "57.14285714285714\n"
          ],
          "name": "stdout"
        }
      ]
    }
  ]
}